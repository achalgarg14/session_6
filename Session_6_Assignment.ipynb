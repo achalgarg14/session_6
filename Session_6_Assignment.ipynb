{
  "nbformat": 4,
  "nbformat_minor": 0,
  "metadata": {
    "colab": {
      "provenance": [],
      "include_colab_link": true
    },
    "kernelspec": {
      "name": "python3",
      "display_name": "Python 3"
    },
    "language_info": {
      "name": "python"
    },
    "accelerator": "GPU",
    "gpuClass": "standard"
  },
  "cells": [
    {
      "cell_type": "markdown",
      "metadata": {
        "id": "view-in-github",
        "colab_type": "text"
      },
      "source": [
        "<a href=\"https://colab.research.google.com/github/achalgarg14/session_6/blob/main/Session_6_Assignment.ipynb\" target=\"_parent\"><img src=\"https://colab.research.google.com/assets/colab-badge.svg\" alt=\"Open In Colab\"/></a>"
      ]
    },
    {
      "cell_type": "code",
      "metadata": {
        "id": "mL8lCzeGZE4u"
      },
      "source": [
        "import torch\n",
        "import torchvision\n",
        "import torchvision.transforms as transforms\n",
        "from torch.optim.lr_scheduler import StepLR,OneCycleLR\n",
        "from tqdm import tqdm\n",
        "import torch.nn as nn\n",
        "import numpy as  np"
      ],
      "execution_count": 6,
      "outputs": []
    },
    {
      "cell_type": "code",
      "metadata": {
        "colab": {
          "base_uri": "https://localhost:8080/"
        },
        "id": "AnngcturRitc",
        "outputId": "523c3bb0-43fc-4bdc-f5e3-f327bf02b3d2"
      },
      "source": [
        "!pip install torchsummary\n",
        "from torchsummary import summary"
      ],
      "execution_count": 7,
      "outputs": [
        {
          "output_type": "stream",
          "name": "stdout",
          "text": [
            "Looking in indexes: https://pypi.org/simple, https://us-python.pkg.dev/colab-wheels/public/simple/\n",
            "Requirement already satisfied: torchsummary in /usr/local/lib/python3.8/dist-packages (1.5.1)\n"
          ]
        }
      ]
    },
    {
      "cell_type": "code",
      "metadata": {
        "colab": {
          "base_uri": "https://localhost:8080/"
        },
        "id": "cHg2ms1is635",
        "outputId": "c33c1492-ffe6-4d35-ccd1-f295585f4701"
      },
      "source": [
        "!pip install -U albumentations\n",
        "import albumentations as A\n",
        "from albumentations.pytorch import ToTensorV2"
      ],
      "execution_count": 8,
      "outputs": [
        {
          "output_type": "stream",
          "name": "stdout",
          "text": [
            "Looking in indexes: https://pypi.org/simple, https://us-python.pkg.dev/colab-wheels/public/simple/\n",
            "Requirement already satisfied: albumentations in /usr/local/lib/python3.8/dist-packages (1.3.0)\n",
            "Requirement already satisfied: opencv-python-headless>=4.1.1 in /usr/local/lib/python3.8/dist-packages (from albumentations) (4.7.0.68)\n",
            "Requirement already satisfied: scikit-image>=0.16.1 in /usr/local/lib/python3.8/dist-packages (from albumentations) (0.18.3)\n",
            "Requirement already satisfied: PyYAML in /usr/local/lib/python3.8/dist-packages (from albumentations) (6.0)\n",
            "Requirement already satisfied: scipy in /usr/local/lib/python3.8/dist-packages (from albumentations) (1.7.3)\n",
            "Requirement already satisfied: qudida>=0.0.4 in /usr/local/lib/python3.8/dist-packages (from albumentations) (0.0.4)\n",
            "Requirement already satisfied: numpy>=1.11.1 in /usr/local/lib/python3.8/dist-packages (from albumentations) (1.21.6)\n",
            "Requirement already satisfied: scikit-learn>=0.19.1 in /usr/local/lib/python3.8/dist-packages (from qudida>=0.0.4->albumentations) (1.0.2)\n",
            "Requirement already satisfied: typing-extensions in /usr/local/lib/python3.8/dist-packages (from qudida>=0.0.4->albumentations) (4.4.0)\n",
            "Requirement already satisfied: pillow!=7.1.0,!=7.1.1,>=4.3.0 in /usr/local/lib/python3.8/dist-packages (from scikit-image>=0.16.1->albumentations) (7.1.2)\n",
            "Requirement already satisfied: PyWavelets>=1.1.1 in /usr/local/lib/python3.8/dist-packages (from scikit-image>=0.16.1->albumentations) (1.4.1)\n",
            "Requirement already satisfied: imageio>=2.3.0 in /usr/local/lib/python3.8/dist-packages (from scikit-image>=0.16.1->albumentations) (2.9.0)\n",
            "Requirement already satisfied: matplotlib!=3.0.0,>=2.0.0 in /usr/local/lib/python3.8/dist-packages (from scikit-image>=0.16.1->albumentations) (3.2.2)\n",
            "Requirement already satisfied: tifffile>=2019.7.26 in /usr/local/lib/python3.8/dist-packages (from scikit-image>=0.16.1->albumentations) (2023.1.23.1)\n",
            "Requirement already satisfied: networkx>=2.0 in /usr/local/lib/python3.8/dist-packages (from scikit-image>=0.16.1->albumentations) (3.0)\n",
            "Requirement already satisfied: cycler>=0.10 in /usr/local/lib/python3.8/dist-packages (from matplotlib!=3.0.0,>=2.0.0->scikit-image>=0.16.1->albumentations) (0.11.0)\n",
            "Requirement already satisfied: pyparsing!=2.0.4,!=2.1.2,!=2.1.6,>=2.0.1 in /usr/local/lib/python3.8/dist-packages (from matplotlib!=3.0.0,>=2.0.0->scikit-image>=0.16.1->albumentations) (3.0.9)\n",
            "Requirement already satisfied: python-dateutil>=2.1 in /usr/local/lib/python3.8/dist-packages (from matplotlib!=3.0.0,>=2.0.0->scikit-image>=0.16.1->albumentations) (2.8.2)\n",
            "Requirement already satisfied: kiwisolver>=1.0.1 in /usr/local/lib/python3.8/dist-packages (from matplotlib!=3.0.0,>=2.0.0->scikit-image>=0.16.1->albumentations) (1.4.4)\n",
            "Requirement already satisfied: threadpoolctl>=2.0.0 in /usr/local/lib/python3.8/dist-packages (from scikit-learn>=0.19.1->qudida>=0.0.4->albumentations) (3.1.0)\n",
            "Requirement already satisfied: joblib>=0.11 in /usr/local/lib/python3.8/dist-packages (from scikit-learn>=0.19.1->qudida>=0.0.4->albumentations) (1.2.0)\n",
            "Requirement already satisfied: six>=1.5 in /usr/local/lib/python3.8/dist-packages (from python-dateutil>=2.1->matplotlib!=3.0.0,>=2.0.0->scikit-image>=0.16.1->albumentations) (1.15.0)\n"
          ]
        }
      ]
    },
    {
      "cell_type": "code",
      "metadata": {
        "colab": {
          "base_uri": "https://localhost:8080/"
        },
        "id": "iYjtVb3VvJBW",
        "outputId": "58ca3374-7795-47f0-ae1d-a4d908d3e2cc"
      },
      "source": [
        "from google.colab import drive\n",
        "drive.mount('/content/drive')"
      ],
      "execution_count": 9,
      "outputs": [
        {
          "output_type": "stream",
          "name": "stdout",
          "text": [
            "Mounted at /content/drive\n"
          ]
        }
      ]
    },
    {
      "cell_type": "code",
      "metadata": {
        "colab": {
          "base_uri": "https://localhost:8080/"
        },
        "id": "NIqQww4Uva-5",
        "outputId": "4c124c49-c87b-411d-8ce4-8f808e17ffa3"
      },
      "source": [
        "cd /content/drive/MyDrive/EVA8/Session_6"
      ],
      "execution_count": 10,
      "outputs": [
        {
          "output_type": "stream",
          "name": "stdout",
          "text": [
            "/content/drive/.shortcut-targets-by-id/17ah1_eh0p8H_7N2SabIIYctyQc2HwLv6/EVA8/Session_6\n"
          ]
        }
      ]
    },
    {
      "cell_type": "code",
      "metadata": {
        "id": "wLvc06iLLSD6"
      },
      "source": [
        "import model_class, train_model, test_model, model_training, data\n",
        "from model_class import Net\n",
        "from train_model import train\n",
        "from test_model import test\n",
        "from model_training import train_test_model\n",
        "from data import default_dataset, transform_params, transformed_dataset, cifar_10"
      ],
      "execution_count": 11,
      "outputs": []
    },
    {
      "cell_type": "code",
      "metadata": {
        "colab": {
          "base_uri": "https://localhost:8080/"
        },
        "id": "_cVx_WTYkiMC",
        "outputId": "65db7cb7-c18b-4550-a7ba-0c4e25ccc7ba"
      },
      "source": [
        "train_loader, train_set = default_dataset()\n",
        "classes = ('plane', 'car', 'bird', 'cat', 'deer', 'dog', 'frog', 'horse', 'ship', 'truck')"
      ],
      "execution_count": 12,
      "outputs": [
        {
          "output_type": "stream",
          "name": "stdout",
          "text": [
            "Files already downloaded and verified\n",
            "Files already downloaded and verified\n"
          ]
        }
      ]
    },
    {
      "cell_type": "code",
      "metadata": {
        "colab": {
          "base_uri": "https://localhost:8080/",
          "height": 156
        },
        "id": "fiqjJPYUaAl7",
        "outputId": "da6a1604-151e-4a4f-fb0d-ed61cda672d3"
      },
      "source": [
        "import matplotlib.pyplot as plt\n",
        "import numpy as np\n",
        "\n",
        "# functions to show an image\n",
        "\n",
        "\n",
        "def imshow(img):\n",
        "    img = img /2 + 0.5\n",
        "    npimg = img.numpy()\n",
        "    plt.imshow(np.transpose(npimg, (1, 2, 0)))\n",
        "\n",
        "\n",
        "# get some random training images\n",
        "dataiter = iter(train_loader)\n",
        "images, labels = next(dataiter)\n",
        "\n",
        "# show images\n",
        "imshow(torchvision.utils.make_grid(images))\n",
        "# print labels\n",
        "print(' '.join('%5s' % classes[labels[j]] for j in range(4)))"
      ],
      "execution_count": 13,
      "outputs": [
        {
          "output_type": "stream",
          "name": "stdout",
          "text": [
            "truck  ship   dog truck\n"
          ]
        },
        {
          "output_type": "display_data",
          "data": {
            "text/plain": [
              "<Figure size 432x288 with 1 Axes>"
            ],
            "image/png": "[encoded data removed]"
          },
          "metadata": {
            "needs_background": "light"
          }
        }
      ]
    },
    {
      "cell_type": "code",
      "metadata": {
        "colab": {
          "base_uri": "https://localhost:8080/"
        },
        "id": "BhlPCud7aAXG",
        "outputId": "66f9f2a4-4434-4d2f-a7fa-06b56d6531e7"
      },
      "source": [
        "mean = list(np.round(train_set.data.mean(axis=(0,1,2))/255, 4))\n",
        "mean"
      ],
      "execution_count": 14,
      "outputs": [
        {
          "output_type": "execute_result",
          "data": {
            "text/plain": [
              "[0.4914, 0.4822, 0.4465]"
            ]
          },
          "metadata": {},
          "execution_count": 14
        }
      ]
    },
    {
      "cell_type": "code",
      "metadata": {
        "colab": {
          "base_uri": "https://localhost:8080/"
        },
        "id": "gn5qA0QaaZL3",
        "outputId": "397bd4ad-feb7-4af8-d236-df11dfd45ba9"
      },
      "source": [
        "std = list(np.round(train_set.data.std(axis=(0,1,2))/255,4))\n",
        "std"
      ],
      "execution_count": 15,
      "outputs": [
        {
          "output_type": "execute_result",
          "data": {
            "text/plain": [
              "[0.247, 0.2435, 0.2616]"
            ]
          },
          "metadata": {},
          "execution_count": 15
        }
      ]
    },
    {
      "cell_type": "code",
      "metadata": {
        "id": "bLTKeLIGoF-m"
      },
      "source": [
        "transform_train, transform_valid = transform_params(mean, std)"
      ],
      "execution_count": 16,
      "outputs": []
    },
    {
      "cell_type": "code",
      "metadata": {
        "colab": {
          "base_uri": "https://localhost:8080/"
        },
        "id": "rKS5Sm-JqBdf",
        "outputId": "ba29ed1f-525c-453d-92a4-340e77cec55a"
      },
      "source": [
        "train_set, train_loader, test_set, test_loader = transformed_dataset(transform_train,transform_valid)\n",
        "classes = ('plane', 'car', 'bird', 'cat', 'deer', 'dog', 'frog', 'horse', 'ship', 'truck')"
      ],
      "execution_count": 17,
      "outputs": [
        {
          "output_type": "stream",
          "name": "stdout",
          "text": [
            "Files already downloaded and verified\n",
            "Files already downloaded and verified\n"
          ]
        }
      ]
    },
    {
      "cell_type": "code",
      "metadata": {
        "colab": {
          "base_uri": "https://localhost:8080/"
        },
        "id": "-5A77F_9pBUr",
        "outputId": "165c388b-6bcb-4812-f0db-00f6da1314e9"
      },
      "source": [
        "len(train_set), len(test_set)"
      ],
      "execution_count": 18,
      "outputs": [
        {
          "output_type": "execute_result",
          "data": {
            "text/plain": [
              "(50000, 10000)"
            ]
          },
          "metadata": {},
          "execution_count": 18
        }
      ]
    },
    {
      "cell_type": "code",
      "source": [
        "def imshow(img):\n",
        "    img = img / 2 + 0.5     # unnormalize\n",
        "    npimg = img.numpy()\n",
        "    plt.imshow(np.transpose(npimg, (1, 2, 0)))\n",
        "\n",
        "\n",
        "# get some random training images\n",
        "dataiter = iter(train_loader)\n",
        "images, labels = next(dataiter)\n",
        "\n",
        "# show images\n",
        "imshow(torchvision.utils.make_grid(images[:4]))\n",
        "# print labels\n",
        "print(' '.join('%5s' % classes[labels[j]] for j in range(4)))"
      ],
      "metadata": {
        "colab": {
          "base_uri": "https://localhost:8080/",
          "height": 174
        },
        "id": "KiFpoC8aVD09",
        "outputId": "856c5599-54e5-4f12-cd91-ed3b87a5ee9a"
      },
      "execution_count": 19,
      "outputs": [
        {
          "output_type": "stream",
          "name": "stderr",
          "text": [
            "WARNING:matplotlib.image:Clipping input data to the valid range for imshow with RGB data ([0..1] for floats or [0..255] for integers).\n"
          ]
        },
        {
          "output_type": "stream",
          "name": "stdout",
          "text": [
            " ship horse truck   dog\n"
          ]
        },
        {
          "output_type": "display_data",
          "data": {
            "text/plain": [
              "<Figure size 432x288 with 1 Axes>"
            ],
            "image/png": "[encoded data removed]"
          },
          "metadata": {
            "needs_background": "light"
          }
        }
      ]
    },
    {
      "cell_type": "code",
      "metadata": {
        "id": "Wgt2M_UTsXSF"
      },
      "source": [
        "features, labels = next(iter(train_loader))"
      ],
      "execution_count": 20,
      "outputs": []
    },
    {
      "cell_type": "code",
      "metadata": {
        "colab": {
          "base_uri": "https://localhost:8080/"
        },
        "id": "SXF2OnL1scjl",
        "outputId": "0e9f5402-ae14-47f1-eae8-15803cc26d27"
      },
      "source": [
        "features.shape, labels.shape"
      ],
      "execution_count": 21,
      "outputs": [
        {
          "output_type": "execute_result",
          "data": {
            "text/plain": [
              "(torch.Size([128, 3, 32, 32]), torch.Size([128]))"
            ]
          },
          "metadata": {},
          "execution_count": 21
        }
      ]
    },
    {
      "cell_type": "markdown",
      "metadata": {
        "id": "rlm20-2nLu9T"
      },
      "source": [
        "### Main Code Block starts"
      ]
    },
    {
      "cell_type": "code",
      "metadata": {
        "colab": {
          "base_uri": "https://localhost:8080/"
        },
        "id": "cykI34YW8sTr",
        "outputId": "48ad4bee-dd5b-459b-eba0-c7725942dde2"
      },
      "source": [
        "SEED = 1\n",
        "\n",
        "# CUDA?\n",
        "cuda = torch.cuda.is_available()\n",
        "print(\"CUDA Available?\", cuda)\n",
        "\n",
        "# For reproducibility\n",
        "torch.manual_seed(SEED)\n",
        "\n",
        "if cuda:\n",
        "  torch.cuda.manual_seed(SEED)\n",
        "  device = \"cuda\"\n",
        "else:\n",
        "  device=\"cpu\"\n"
      ],
      "execution_count": 22,
      "outputs": [
        {
          "output_type": "stream",
          "name": "stdout",
          "text": [
            "CUDA Available? True\n"
          ]
        }
      ]
    },
    {
      "cell_type": "code",
      "metadata": {
        "id": "IVxUDQdBc3Ek"
      },
      "source": [
        "def view_model_summary(dropout,nm='BN'):\n",
        "  test_model = Net(dropout, nm).to(device)\n",
        "  print(summary(test_model, input_size=(3, 32, 32)))"
      ],
      "execution_count": 23,
      "outputs": []
    },
    {
      "cell_type": "code",
      "metadata": {
        "colab": {
          "base_uri": "https://localhost:8080/"
        },
        "id": "HBgYhzycpu6v",
        "outputId": "84aae368-a5b0-4e43-9107-5d5472413cce"
      },
      "source": [
        "view_model_summary(0.1)"
      ],
      "execution_count": 24,
      "outputs": [
        {
          "output_type": "stream",
          "name": "stdout",
          "text": [
            "----------------------------------------------------------------\n",
            "        Layer (type)               Output Shape         Param #\n",
            "================================================================\n",
            "            Conv2d-1           [-1, 32, 32, 32]             864\n",
            "       BatchNorm2d-2           [-1, 32, 32, 32]              64\n",
            "              ReLU-3           [-1, 32, 32, 32]               0\n",
            "         Dropout2d-4           [-1, 32, 32, 32]               0\n",
            "            Conv2d-5           [-1, 64, 32, 32]          18,432\n",
            "       BatchNorm2d-6           [-1, 64, 32, 32]             128\n",
            "              ReLU-7           [-1, 64, 32, 32]               0\n",
            "         Dropout2d-8           [-1, 64, 32, 32]               0\n",
            "            Conv2d-9           [-1, 32, 15, 15]          18,464\n",
            "      BatchNorm2d-10           [-1, 32, 15, 15]              64\n",
            "             ReLU-11           [-1, 32, 15, 15]               0\n",
            "        Dropout2d-12           [-1, 32, 15, 15]               0\n",
            "           Conv2d-13           [-1, 64, 15, 15]          18,432\n",
            "      BatchNorm2d-14           [-1, 64, 15, 15]             128\n",
            "             ReLU-15           [-1, 64, 15, 15]               0\n",
            "        Dropout2d-16           [-1, 64, 15, 15]               0\n",
            "           Conv2d-17           [-1, 64, 15, 15]           1,152\n",
            "      BatchNorm2d-18           [-1, 64, 15, 15]             128\n",
            "             ReLU-19           [-1, 64, 15, 15]               0\n",
            "        Dropout2d-20           [-1, 64, 15, 15]               0\n",
            "           Conv2d-21             [-1, 16, 7, 7]           9,232\n",
            "      BatchNorm2d-22             [-1, 16, 7, 7]              32\n",
            "             ReLU-23             [-1, 16, 7, 7]               0\n",
            "        Dropout2d-24             [-1, 16, 7, 7]               0\n",
            "           Conv2d-25             [-1, 32, 5, 5]           4,608\n",
            "      BatchNorm2d-26             [-1, 32, 5, 5]              64\n",
            "             ReLU-27             [-1, 32, 5, 5]               0\n",
            "        Dropout2d-28             [-1, 32, 5, 5]               0\n",
            "           Conv2d-29             [-1, 64, 5, 5]          18,432\n",
            "      BatchNorm2d-30             [-1, 64, 5, 5]             128\n",
            "             ReLU-31             [-1, 64, 5, 5]               0\n",
            "        Dropout2d-32             [-1, 64, 5, 5]               0\n",
            "           Conv2d-33             [-1, 16, 2, 2]           9,232\n",
            "      BatchNorm2d-34             [-1, 16, 2, 2]              32\n",
            "             ReLU-35             [-1, 16, 2, 2]               0\n",
            "        Dropout2d-36             [-1, 16, 2, 2]               0\n",
            "           Conv2d-37             [-1, 16, 2, 2]           2,304\n",
            "      BatchNorm2d-38             [-1, 16, 2, 2]              32\n",
            "             ReLU-39             [-1, 16, 2, 2]               0\n",
            "        Dropout2d-40             [-1, 16, 2, 2]               0\n",
            "           Conv2d-41             [-1, 10, 2, 2]           1,440\n",
            "      BatchNorm2d-42             [-1, 10, 2, 2]              20\n",
            "             ReLU-43             [-1, 10, 2, 2]               0\n",
            "        Dropout2d-44             [-1, 10, 2, 2]               0\n",
            "        AvgPool2d-45             [-1, 10, 1, 1]               0\n",
            "           Conv2d-46             [-1, 10, 1, 1]             100\n",
            "================================================================\n",
            "Total params: 103,512\n",
            "Trainable params: 103,512\n",
            "Non-trainable params: 0\n",
            "----------------------------------------------------------------\n",
            "Input size (MB): 0.01\n",
            "Forward/backward pass size (MB): 4.20\n",
            "Params size (MB): 0.39\n",
            "Estimated Total Size (MB): 4.61\n",
            "----------------------------------------------------------------\n",
            "None\n"
          ]
        }
      ]
    },
    {
      "cell_type": "code",
      "metadata": {
        "colab": {
          "base_uri": "https://localhost:8080/"
        },
        "id": "kJ8Ddoe6J_Z7",
        "outputId": "e2cd6b98-8210-486e-a635-c9a6c5bb0985"
      },
      "source": [
        "net, train_losses, test_losses, train_acc, test_acc, wrong_predictions = train_test_model(train_loader, test_loader, 'BN', 200, 0.01, 0.002, 0.0001, device)"
      ],
      "execution_count": 26,
      "outputs": [
        {
          "output_type": "stream",
          "name": "stdout",
          "text": [
            "EPOCH: 0\n"
          ]
        },
        {
          "output_type": "stream",
          "name": "stderr",
          "text": [
            "Loss=1.8100248575210571 Batch_id=390 Accuracy=35.54: 100%|██████████| 391/391 [00:16<00:00, 23.36it/s]"
          ]
        },
        {
          "output_type": "stream",
          "name": "stdout",
          "text": [
            "\n",
            " Average Training Loss=0.015871645803451538, Accuracy=35.542\n"
          ]
        },
        {
          "output_type": "stream",
          "name": "stderr",
          "text": [
            "\n"
          ]
        },
        {
          "output_type": "stream",
          "name": "stdout",
          "text": [
            "\n",
            "Test set: Average loss: 1.3749, Accuracy: 4955/10000 (49.55%)\n",
            "\n",
            "EPOCH: 1\n"
          ]
        },
        {
          "output_type": "stream",
          "name": "stderr",
          "text": [
            "Loss=1.4909917116165161 Batch_id=390 Accuracy=49.66: 100%|██████████| 391/391 [00:17<00:00, 22.52it/s]"
          ]
        },
        {
          "output_type": "stream",
          "name": "stdout",
          "text": [
            "\n",
            " Average Training Loss=0.013171518785953521, Accuracy=49.658\n"
          ]
        },
        {
          "output_type": "stream",
          "name": "stderr",
          "text": [
            "\n"
          ]
        },
        {
          "output_type": "stream",
          "name": "stdout",
          "text": [
            "\n",
            "Test set: Average loss: 1.2108, Accuracy: 5695/10000 (56.95%)\n",
            "\n",
            "EPOCH: 2\n"
          ]
        },
        {
          "output_type": "stream",
          "name": "stderr",
          "text": [
            "Loss=1.5396506786346436 Batch_id=390 Accuracy=56.34: 100%|██████████| 391/391 [00:18<00:00, 21.02it/s]\n"
          ]
        },
        {
          "output_type": "stream",
          "name": "stdout",
          "text": [
            "\n",
            " Average Training Loss=0.012156869573593139, Accuracy=56.342\n",
            "\n",
            "Test set: Average loss: 1.0545, Accuracy: 6318/10000 (63.18%)\n",
            "\n",
            "EPOCH: 3\n"
          ]
        },
        {
          "output_type": "stream",
          "name": "stderr",
          "text": [
            "Loss=1.463087558746338 Batch_id=390 Accuracy=59.29: 100%|██████████| 391/391 [00:16<00:00, 24.26it/s]"
          ]
        },
        {
          "output_type": "stream",
          "name": "stdout",
          "text": [
            "\n",
            " Average Training Loss=0.0116809716796875, Accuracy=59.288\n"
          ]
        },
        {
          "output_type": "stream",
          "name": "stderr",
          "text": [
            "\n"
          ]
        },
        {
          "output_type": "stream",
          "name": "stdout",
          "text": [
            "\n",
            "Test set: Average loss: 0.9339, Accuracy: 6715/10000 (67.15%)\n",
            "\n",
            "EPOCH: 4\n"
          ]
        },
        {
          "output_type": "stream",
          "name": "stderr",
          "text": [
            "Loss=1.6953301429748535 Batch_id=390 Accuracy=61.05: 100%|██████████| 391/391 [00:16<00:00, 23.41it/s]"
          ]
        },
        {
          "output_type": "stream",
          "name": "stdout",
          "text": [
            "\n",
            " Average Training Loss=0.011328005175590515, Accuracy=61.054\n"
          ]
        },
        {
          "output_type": "stream",
          "name": "stderr",
          "text": [
            "\n"
          ]
        },
        {
          "output_type": "stream",
          "name": "stdout",
          "text": [
            "\n",
            "Test set: Average loss: 0.9388, Accuracy: 6688/10000 (66.88%)\n",
            "\n",
            "EPOCH: 5\n"
          ]
        },
        {
          "output_type": "stream",
          "name": "stderr",
          "text": [
            "Loss=1.5167644023895264 Batch_id=390 Accuracy=63.26: 100%|██████████| 391/391 [00:16<00:00, 24.25it/s]"
          ]
        },
        {
          "output_type": "stream",
          "name": "stdout",
          "text": [
            "\n",
            " Average Training Loss=0.011038568401336669, Accuracy=63.26\n"
          ]
        },
        {
          "output_type": "stream",
          "name": "stderr",
          "text": [
            "\n"
          ]
        },
        {
          "output_type": "stream",
          "name": "stdout",
          "text": [
            "\n",
            "Test set: Average loss: 0.8350, Accuracy: 7070/10000 (70.70%)\n",
            "\n",
            "EPOCH: 6\n"
          ]
        },
        {
          "output_type": "stream",
          "name": "stderr",
          "text": [
            "Loss=1.3953831195831299 Batch_id=390 Accuracy=64.51: 100%|██████████| 391/391 [00:16<00:00, 24.27it/s]"
          ]
        },
        {
          "output_type": "stream",
          "name": "stdout",
          "text": [
            "\n",
            " Average Training Loss=0.010822873690128326, Accuracy=64.512\n"
          ]
        },
        {
          "output_type": "stream",
          "name": "stderr",
          "text": [
            "\n"
          ]
        },
        {
          "output_type": "stream",
          "name": "stdout",
          "text": [
            "\n",
            "Test set: Average loss: 0.8226, Accuracy: 7174/10000 (71.74%)\n",
            "\n",
            "EPOCH: 7\n"
          ]
        },
        {
          "output_type": "stream",
          "name": "stderr",
          "text": [
            "Loss=1.3220851421356201 Batch_id=390 Accuracy=65.39: 100%|██████████| 391/391 [00:16<00:00, 24.14it/s]"
          ]
        },
        {
          "output_type": "stream",
          "name": "stdout",
          "text": [
            "\n",
            " Average Training Loss=0.010657192487716675, Accuracy=65.394\n"
          ]
        },
        {
          "output_type": "stream",
          "name": "stderr",
          "text": [
            "\n"
          ]
        },
        {
          "output_type": "stream",
          "name": "stdout",
          "text": [
            "\n",
            "Test set: Average loss: 0.7976, Accuracy: 7192/10000 (71.92%)\n",
            "\n",
            "EPOCH: 8\n"
          ]
        },
        {
          "output_type": "stream",
          "name": "stderr",
          "text": [
            "Loss=1.2657947540283203 Batch_id=390 Accuracy=66.25: 100%|██████████| 391/391 [00:16<00:00, 24.01it/s]"
          ]
        },
        {
          "output_type": "stream",
          "name": "stdout",
          "text": [
            "\n",
            " Average Training Loss=0.010449152884483337, Accuracy=66.25\n"
          ]
        },
        {
          "output_type": "stream",
          "name": "stderr",
          "text": [
            "\n"
          ]
        },
        {
          "output_type": "stream",
          "name": "stdout",
          "text": [
            "\n",
            "Test set: Average loss: 0.7786, Accuracy: 7311/10000 (73.11%)\n",
            "\n",
            "EPOCH: 9\n"
          ]
        },
        {
          "output_type": "stream",
          "name": "stderr",
          "text": [
            "Loss=1.4937009811401367 Batch_id=390 Accuracy=66.64: 100%|██████████| 391/391 [00:16<00:00, 23.08it/s]"
          ]
        },
        {
          "output_type": "stream",
          "name": "stdout",
          "text": [
            "\n",
            " Average Training Loss=0.010386404049396515, Accuracy=66.644\n"
          ]
        },
        {
          "output_type": "stream",
          "name": "stderr",
          "text": [
            "\n"
          ]
        },
        {
          "output_type": "stream",
          "name": "stdout",
          "text": [
            "\n",
            "Test set: Average loss: 0.7661, Accuracy: 7403/10000 (74.03%)\n",
            "\n",
            "EPOCH: 10\n"
          ]
        },
        {
          "output_type": "stream",
          "name": "stderr",
          "text": [
            "Loss=1.2644718885421753 Batch_id=390 Accuracy=67.34: 100%|██████████| 391/391 [00:16<00:00, 23.92it/s]"
          ]
        },
        {
          "output_type": "stream",
          "name": "stdout",
          "text": [
            "\n",
            " Average Training Loss=0.010257716369628906, Accuracy=67.338\n"
          ]
        },
        {
          "output_type": "stream",
          "name": "stderr",
          "text": [
            "\n"
          ]
        },
        {
          "output_type": "stream",
          "name": "stdout",
          "text": [
            "\n",
            "Test set: Average loss: 0.7555, Accuracy: 7413/10000 (74.13%)\n",
            "\n",
            "EPOCH: 11\n"
          ]
        },
        {
          "output_type": "stream",
          "name": "stderr",
          "text": [
            "Loss=1.200996994972229 Batch_id=390 Accuracy=67.97: 100%|██████████| 391/391 [00:16<00:00, 24.34it/s]"
          ]
        },
        {
          "output_type": "stream",
          "name": "stdout",
          "text": [
            "\n",
            " Average Training Loss=0.010119391644001007, Accuracy=67.97\n"
          ]
        },
        {
          "output_type": "stream",
          "name": "stderr",
          "text": [
            "\n"
          ]
        },
        {
          "output_type": "stream",
          "name": "stdout",
          "text": [
            "\n",
            "Test set: Average loss: 0.7611, Accuracy: 7371/10000 (73.71%)\n",
            "\n",
            "EPOCH: 12\n"
          ]
        },
        {
          "output_type": "stream",
          "name": "stderr",
          "text": [
            "Loss=1.3728227615356445 Batch_id=390 Accuracy=68.36: 100%|██████████| 391/391 [00:16<00:00, 24.40it/s]"
          ]
        },
        {
          "output_type": "stream",
          "name": "stdout",
          "text": [
            "\n",
            " Average Training Loss=0.010055677740573882, Accuracy=68.358\n"
          ]
        },
        {
          "output_type": "stream",
          "name": "stderr",
          "text": [
            "\n"
          ]
        },
        {
          "output_type": "stream",
          "name": "stdout",
          "text": [
            "\n",
            "Test set: Average loss: 0.7123, Accuracy: 7600/10000 (76.00%)\n",
            "\n",
            "EPOCH: 13\n"
          ]
        },
        {
          "output_type": "stream",
          "name": "stderr",
          "text": [
            "Loss=1.140021800994873 Batch_id=390 Accuracy=68.71: 100%|██████████| 391/391 [00:16<00:00, 23.67it/s]"
          ]
        },
        {
          "output_type": "stream",
          "name": "stdout",
          "text": [
            "\n",
            " Average Training Loss=0.009997202314138412, Accuracy=68.706\n"
          ]
        },
        {
          "output_type": "stream",
          "name": "stderr",
          "text": [
            "\n"
          ]
        },
        {
          "output_type": "stream",
          "name": "stdout",
          "text": [
            "\n",
            "Test set: Average loss: 0.6732, Accuracy: 7710/10000 (77.10%)\n",
            "\n",
            "EPOCH: 14\n"
          ]
        },
        {
          "output_type": "stream",
          "name": "stderr",
          "text": [
            "Loss=1.2077796459197998 Batch_id=390 Accuracy=68.99: 100%|██████████| 391/391 [00:16<00:00, 24.36it/s]"
          ]
        },
        {
          "output_type": "stream",
          "name": "stdout",
          "text": [
            "\n",
            " Average Training Loss=0.009914623255729674, Accuracy=68.986\n"
          ]
        },
        {
          "output_type": "stream",
          "name": "stderr",
          "text": [
            "\n"
          ]
        },
        {
          "output_type": "stream",
          "name": "stdout",
          "text": [
            "\n",
            "Test set: Average loss: 0.6631, Accuracy: 7741/10000 (77.41%)\n",
            "\n",
            "EPOCH: 15\n"
          ]
        },
        {
          "output_type": "stream",
          "name": "stderr",
          "text": [
            "Loss=1.2081964015960693 Batch_id=390 Accuracy=69.27: 100%|██████████| 391/391 [00:16<00:00, 24.40it/s]\n"
          ]
        },
        {
          "output_type": "stream",
          "name": "stdout",
          "text": [
            "\n",
            " Average Training Loss=0.009877953383922576, Accuracy=69.266\n",
            "\n",
            "Test set: Average loss: 0.6850, Accuracy: 7659/10000 (76.59%)\n",
            "\n",
            "EPOCH: 16\n"
          ]
        },
        {
          "output_type": "stream",
          "name": "stderr",
          "text": [
            "Loss=1.3147395849227905 Batch_id=390 Accuracy=69.46: 100%|██████████| 391/391 [00:15<00:00, 24.62it/s]"
          ]
        },
        {
          "output_type": "stream",
          "name": "stdout",
          "text": [
            "\n",
            " Average Training Loss=0.009774574472904205, Accuracy=69.462\n"
          ]
        },
        {
          "output_type": "stream",
          "name": "stderr",
          "text": [
            "\n"
          ]
        },
        {
          "output_type": "stream",
          "name": "stdout",
          "text": [
            "\n",
            "Test set: Average loss: 0.6564, Accuracy: 7743/10000 (77.43%)\n",
            "\n",
            "EPOCH: 17\n"
          ]
        },
        {
          "output_type": "stream",
          "name": "stderr",
          "text": [
            "Loss=1.489556908607483 Batch_id=390 Accuracy=69.63: 100%|██████████| 391/391 [00:16<00:00, 23.42it/s]"
          ]
        },
        {
          "output_type": "stream",
          "name": "stdout",
          "text": [
            "\n",
            " Average Training Loss=0.009736227213144303, Accuracy=69.634\n"
          ]
        },
        {
          "output_type": "stream",
          "name": "stderr",
          "text": [
            "\n"
          ]
        },
        {
          "output_type": "stream",
          "name": "stdout",
          "text": [
            "\n",
            "Test set: Average loss: 0.6457, Accuracy: 7769/10000 (77.69%)\n",
            "\n",
            "EPOCH: 18\n"
          ]
        },
        {
          "output_type": "stream",
          "name": "stderr",
          "text": [
            "Loss=1.2189677953720093 Batch_id=390 Accuracy=69.89: 100%|██████████| 391/391 [00:17<00:00, 22.88it/s]"
          ]
        },
        {
          "output_type": "stream",
          "name": "stdout",
          "text": [
            "\n",
            " Average Training Loss=0.009684398746490479, Accuracy=69.886\n"
          ]
        },
        {
          "output_type": "stream",
          "name": "stderr",
          "text": [
            "\n"
          ]
        },
        {
          "output_type": "stream",
          "name": "stdout",
          "text": [
            "\n",
            "Test set: Average loss: 0.6802, Accuracy: 7645/10000 (76.45%)\n",
            "\n",
            "EPOCH: 19\n"
          ]
        },
        {
          "output_type": "stream",
          "name": "stderr",
          "text": [
            "Loss=1.2522474527359009 Batch_id=390 Accuracy=70.18: 100%|██████████| 391/391 [00:16<00:00, 24.42it/s]\n"
          ]
        },
        {
          "output_type": "stream",
          "name": "stdout",
          "text": [
            "\n",
            " Average Training Loss=0.00967810605764389, Accuracy=70.176\n",
            "\n",
            "Test set: Average loss: 0.7014, Accuracy: 7602/10000 (76.02%)\n",
            "\n",
            "EPOCH: 20\n"
          ]
        },
        {
          "output_type": "stream",
          "name": "stderr",
          "text": [
            "Loss=1.2927659749984741 Batch_id=390 Accuracy=70.50: 100%|██████████| 391/391 [00:16<00:00, 24.38it/s]"
          ]
        },
        {
          "output_type": "stream",
          "name": "stdout",
          "text": [
            "\n",
            " Average Training Loss=0.009602619459629059, Accuracy=70.502\n"
          ]
        },
        {
          "output_type": "stream",
          "name": "stderr",
          "text": [
            "\n"
          ]
        },
        {
          "output_type": "stream",
          "name": "stdout",
          "text": [
            "\n",
            "Test set: Average loss: 0.6515, Accuracy: 7800/10000 (78.00%)\n",
            "\n",
            "EPOCH: 21\n"
          ]
        },
        {
          "output_type": "stream",
          "name": "stderr",
          "text": [
            "Loss=1.1293755769729614 Batch_id=390 Accuracy=70.96: 100%|██████████| 391/391 [00:15<00:00, 24.45it/s]"
          ]
        },
        {
          "output_type": "stream",
          "name": "stdout",
          "text": [
            "\n",
            " Average Training Loss=0.00946483875632286, Accuracy=70.962\n"
          ]
        },
        {
          "output_type": "stream",
          "name": "stderr",
          "text": [
            "\n"
          ]
        },
        {
          "output_type": "stream",
          "name": "stdout",
          "text": [
            "\n",
            "Test set: Average loss: 0.6388, Accuracy: 7848/10000 (78.48%)\n",
            "\n",
            "EPOCH: 22\n"
          ]
        },
        {
          "output_type": "stream",
          "name": "stderr",
          "text": [
            "Loss=1.337485909461975 Batch_id=390 Accuracy=70.85: 100%|██████████| 391/391 [00:16<00:00, 23.95it/s]\n"
          ]
        },
        {
          "output_type": "stream",
          "name": "stdout",
          "text": [
            "\n",
            " Average Training Loss=0.009512792150974274, Accuracy=70.848\n",
            "\n",
            "Test set: Average loss: 0.6410, Accuracy: 7841/10000 (78.41%)\n",
            "\n",
            "EPOCH: 23\n"
          ]
        },
        {
          "output_type": "stream",
          "name": "stderr",
          "text": [
            "Loss=1.1040304899215698 Batch_id=390 Accuracy=71.05: 100%|██████████| 391/391 [00:16<00:00, 23.72it/s]"
          ]
        },
        {
          "output_type": "stream",
          "name": "stdout",
          "text": [
            "\n",
            " Average Training Loss=0.00949910866498947, Accuracy=71.054\n"
          ]
        },
        {
          "output_type": "stream",
          "name": "stderr",
          "text": [
            "\n"
          ]
        },
        {
          "output_type": "stream",
          "name": "stdout",
          "text": [
            "\n",
            "Test set: Average loss: 0.6649, Accuracy: 7735/10000 (77.35%)\n",
            "\n",
            "EPOCH: 24\n"
          ]
        },
        {
          "output_type": "stream",
          "name": "stderr",
          "text": [
            "Loss=1.1708261966705322 Batch_id=390 Accuracy=70.79: 100%|██████████| 391/391 [00:16<00:00, 24.24it/s]"
          ]
        },
        {
          "output_type": "stream",
          "name": "stdout",
          "text": [
            "\n",
            " Average Training Loss=0.009473866139650344, Accuracy=70.79\n"
          ]
        },
        {
          "output_type": "stream",
          "name": "stderr",
          "text": [
            "\n"
          ]
        },
        {
          "output_type": "stream",
          "name": "stdout",
          "text": [
            "\n",
            "Test set: Average loss: 0.6542, Accuracy: 7739/10000 (77.39%)\n",
            "\n",
            "EPOCH: 25\n"
          ]
        },
        {
          "output_type": "stream",
          "name": "stderr",
          "text": [
            "Loss=1.1667568683624268 Batch_id=390 Accuracy=71.03: 100%|██████████| 391/391 [00:16<00:00, 24.23it/s]"
          ]
        },
        {
          "output_type": "stream",
          "name": "stdout",
          "text": [
            "\n",
            " Average Training Loss=0.009473981902599335, Accuracy=71.034\n"
          ]
        },
        {
          "output_type": "stream",
          "name": "stderr",
          "text": [
            "\n"
          ]
        },
        {
          "output_type": "stream",
          "name": "stdout",
          "text": [
            "\n",
            "Test set: Average loss: 0.6314, Accuracy: 7854/10000 (78.54%)\n",
            "\n",
            "EPOCH: 26\n"
          ]
        },
        {
          "output_type": "stream",
          "name": "stderr",
          "text": [
            "Loss=0.990392804145813 Batch_id=390 Accuracy=71.42: 100%|██████████| 391/391 [00:16<00:00, 24.34it/s]"
          ]
        },
        {
          "output_type": "stream",
          "name": "stdout",
          "text": [
            "\n",
            " Average Training Loss=0.009372977229356766, Accuracy=71.422\n"
          ]
        },
        {
          "output_type": "stream",
          "name": "stderr",
          "text": [
            "\n"
          ]
        },
        {
          "output_type": "stream",
          "name": "stdout",
          "text": [
            "\n",
            "Test set: Average loss: 0.6427, Accuracy: 7859/10000 (78.59%)\n",
            "\n",
            "EPOCH: 27\n"
          ]
        },
        {
          "output_type": "stream",
          "name": "stderr",
          "text": [
            "Loss=1.2036586999893188 Batch_id=390 Accuracy=71.22: 100%|██████████| 391/391 [00:16<00:00, 23.43it/s]"
          ]
        },
        {
          "output_type": "stream",
          "name": "stdout",
          "text": [
            "\n",
            " Average Training Loss=0.009452904022932052, Accuracy=71.222\n"
          ]
        },
        {
          "output_type": "stream",
          "name": "stderr",
          "text": [
            "\n"
          ]
        },
        {
          "output_type": "stream",
          "name": "stdout",
          "text": [
            "\n",
            "Test set: Average loss: 0.6389, Accuracy: 7842/10000 (78.42%)\n",
            "\n",
            "EPOCH: 28\n"
          ]
        },
        {
          "output_type": "stream",
          "name": "stderr",
          "text": [
            "Loss=1.1993091106414795 Batch_id=390 Accuracy=71.55: 100%|██████████| 391/391 [00:16<00:00, 24.28it/s]"
          ]
        },
        {
          "output_type": "stream",
          "name": "stdout",
          "text": [
            "\n",
            " Average Training Loss=0.009385355267524719, Accuracy=71.548\n"
          ]
        },
        {
          "output_type": "stream",
          "name": "stderr",
          "text": [
            "\n"
          ]
        },
        {
          "output_type": "stream",
          "name": "stdout",
          "text": [
            "\n",
            "Test set: Average loss: 0.6042, Accuracy: 7972/10000 (79.72%)\n",
            "\n",
            "EPOCH: 29\n"
          ]
        },
        {
          "output_type": "stream",
          "name": "stderr",
          "text": [
            "Loss=1.4557604789733887 Batch_id=390 Accuracy=71.52: 100%|██████████| 391/391 [00:16<00:00, 24.05it/s]"
          ]
        },
        {
          "output_type": "stream",
          "name": "stdout",
          "text": [
            "\n",
            " Average Training Loss=0.00934951903820038, Accuracy=71.516\n"
          ]
        },
        {
          "output_type": "stream",
          "name": "stderr",
          "text": [
            "\n"
          ]
        },
        {
          "output_type": "stream",
          "name": "stdout",
          "text": [
            "\n",
            "Test set: Average loss: 0.6246, Accuracy: 7875/10000 (78.75%)\n",
            "\n",
            "EPOCH: 30\n"
          ]
        },
        {
          "output_type": "stream",
          "name": "stderr",
          "text": [
            "Loss=1.0880813598632812 Batch_id=390 Accuracy=71.70: 100%|██████████| 391/391 [00:15<00:00, 24.44it/s]"
          ]
        },
        {
          "output_type": "stream",
          "name": "stdout",
          "text": [
            "\n",
            " Average Training Loss=0.009322831597328185, Accuracy=71.696\n"
          ]
        },
        {
          "output_type": "stream",
          "name": "stderr",
          "text": [
            "\n"
          ]
        },
        {
          "output_type": "stream",
          "name": "stdout",
          "text": [
            "\n",
            "Test set: Average loss: 0.6281, Accuracy: 7877/10000 (78.77%)\n",
            "\n",
            "EPOCH: 31\n"
          ]
        },
        {
          "output_type": "stream",
          "name": "stderr",
          "text": [
            "Loss=1.3840044736862183 Batch_id=390 Accuracy=71.95: 100%|██████████| 391/391 [00:16<00:00, 24.32it/s]"
          ]
        },
        {
          "output_type": "stream",
          "name": "stdout",
          "text": [
            "\n",
            " Average Training Loss=0.009327243753671647, Accuracy=71.952\n"
          ]
        },
        {
          "output_type": "stream",
          "name": "stderr",
          "text": [
            "\n"
          ]
        },
        {
          "output_type": "stream",
          "name": "stdout",
          "text": [
            "\n",
            "Test set: Average loss: 0.6212, Accuracy: 7884/10000 (78.84%)\n",
            "\n",
            "EPOCH: 32\n"
          ]
        },
        {
          "output_type": "stream",
          "name": "stderr",
          "text": [
            "Loss=1.1761313676834106 Batch_id=390 Accuracy=71.81: 100%|██████████| 391/391 [00:16<00:00, 23.43it/s]"
          ]
        },
        {
          "output_type": "stream",
          "name": "stdout",
          "text": [
            "\n",
            " Average Training Loss=0.009314447448253632, Accuracy=71.81\n"
          ]
        },
        {
          "output_type": "stream",
          "name": "stderr",
          "text": [
            "\n"
          ]
        },
        {
          "output_type": "stream",
          "name": "stdout",
          "text": [
            "\n",
            "Test set: Average loss: 0.6035, Accuracy: 7966/10000 (79.66%)\n",
            "\n",
            "EPOCH: 33\n"
          ]
        },
        {
          "output_type": "stream",
          "name": "stderr",
          "text": [
            "Loss=1.1931042671203613 Batch_id=390 Accuracy=72.21: 100%|██████████| 391/391 [00:17<00:00, 22.55it/s]"
          ]
        },
        {
          "output_type": "stream",
          "name": "stdout",
          "text": [
            "\n",
            " Average Training Loss=0.009253552780151367, Accuracy=72.212\n"
          ]
        },
        {
          "output_type": "stream",
          "name": "stderr",
          "text": [
            "\n"
          ]
        },
        {
          "output_type": "stream",
          "name": "stdout",
          "text": [
            "\n",
            "Test set: Average loss: 0.5918, Accuracy: 8000/10000 (80.00%)\n",
            "\n",
            "EPOCH: 34\n"
          ]
        },
        {
          "output_type": "stream",
          "name": "stderr",
          "text": [
            "Loss=1.1529505252838135 Batch_id=390 Accuracy=72.05: 100%|██████████| 391/391 [00:16<00:00, 24.43it/s]"
          ]
        },
        {
          "output_type": "stream",
          "name": "stdout",
          "text": [
            "\n",
            " Average Training Loss=0.009285928202867508, Accuracy=72.046\n"
          ]
        },
        {
          "output_type": "stream",
          "name": "stderr",
          "text": [
            "\n"
          ]
        },
        {
          "output_type": "stream",
          "name": "stdout",
          "text": [
            "\n",
            "Test set: Average loss: 0.6180, Accuracy: 7872/10000 (78.72%)\n",
            "\n",
            "EPOCH: 35\n"
          ]
        },
        {
          "output_type": "stream",
          "name": "stderr",
          "text": [
            "Loss=1.1004490852355957 Batch_id=390 Accuracy=72.27: 100%|██████████| 391/391 [00:16<00:00, 24.29it/s]"
          ]
        },
        {
          "output_type": "stream",
          "name": "stdout",
          "text": [
            "\n",
            " Average Training Loss=0.009248281301259995, Accuracy=72.274\n"
          ]
        },
        {
          "output_type": "stream",
          "name": "stderr",
          "text": [
            "\n"
          ]
        },
        {
          "output_type": "stream",
          "name": "stdout",
          "text": [
            "\n",
            "Test set: Average loss: 0.6457, Accuracy: 7815/10000 (78.15%)\n",
            "\n",
            "EPOCH: 36\n"
          ]
        },
        {
          "output_type": "stream",
          "name": "stderr",
          "text": [
            "Loss=1.0639281272888184 Batch_id=390 Accuracy=72.25: 100%|██████████| 391/391 [00:16<00:00, 23.18it/s]"
          ]
        },
        {
          "output_type": "stream",
          "name": "stdout",
          "text": [
            "\n",
            " Average Training Loss=0.0092372878241539, Accuracy=72.252\n"
          ]
        },
        {
          "output_type": "stream",
          "name": "stderr",
          "text": [
            "\n"
          ]
        },
        {
          "output_type": "stream",
          "name": "stdout",
          "text": [
            "\n",
            "Test set: Average loss: 0.6180, Accuracy: 7894/10000 (78.94%)\n",
            "\n",
            "EPOCH: 37\n"
          ]
        },
        {
          "output_type": "stream",
          "name": "stderr",
          "text": [
            "Loss=1.4667699337005615 Batch_id=390 Accuracy=72.49: 100%|██████████| 391/391 [00:16<00:00, 24.13it/s]"
          ]
        },
        {
          "output_type": "stream",
          "name": "stdout",
          "text": [
            "\n",
            " Average Training Loss=0.00918377383708954, Accuracy=72.488\n"
          ]
        },
        {
          "output_type": "stream",
          "name": "stderr",
          "text": [
            "\n"
          ]
        },
        {
          "output_type": "stream",
          "name": "stdout",
          "text": [
            "\n",
            "Test set: Average loss: 0.6070, Accuracy: 7939/10000 (79.39%)\n",
            "\n",
            "EPOCH: 38\n"
          ]
        },
        {
          "output_type": "stream",
          "name": "stderr",
          "text": [
            "Loss=1.1691594123840332 Batch_id=390 Accuracy=72.21: 100%|██████████| 391/391 [00:16<00:00, 24.12it/s]"
          ]
        },
        {
          "output_type": "stream",
          "name": "stdout",
          "text": [
            "\n",
            " Average Training Loss=0.009229041292667389, Accuracy=72.212\n"
          ]
        },
        {
          "output_type": "stream",
          "name": "stderr",
          "text": [
            "\n"
          ]
        },
        {
          "output_type": "stream",
          "name": "stdout",
          "text": [
            "\n",
            "Test set: Average loss: 0.6140, Accuracy: 7912/10000 (79.12%)\n",
            "\n",
            "EPOCH: 39\n"
          ]
        },
        {
          "output_type": "stream",
          "name": "stderr",
          "text": [
            "Loss=1.4275575876235962 Batch_id=390 Accuracy=72.52: 100%|██████████| 391/391 [00:16<00:00, 24.36it/s]"
          ]
        },
        {
          "output_type": "stream",
          "name": "stdout",
          "text": [
            "\n",
            " Average Training Loss=0.009170568534135818, Accuracy=72.52\n"
          ]
        },
        {
          "output_type": "stream",
          "name": "stderr",
          "text": [
            "\n"
          ]
        },
        {
          "output_type": "stream",
          "name": "stdout",
          "text": [
            "\n",
            "Test set: Average loss: 0.6245, Accuracy: 7903/10000 (79.03%)\n",
            "\n",
            "EPOCH: 40\n"
          ]
        },
        {
          "output_type": "stream",
          "name": "stderr",
          "text": [
            "Loss=1.0445572137832642 Batch_id=390 Accuracy=75.26: 100%|██████████| 391/391 [00:16<00:00, 23.81it/s]"
          ]
        },
        {
          "output_type": "stream",
          "name": "stdout",
          "text": [
            "\n",
            " Average Training Loss=0.008556741758584976, Accuracy=75.264\n"
          ]
        },
        {
          "output_type": "stream",
          "name": "stderr",
          "text": [
            "\n"
          ]
        },
        {
          "output_type": "stream",
          "name": "stdout",
          "text": [
            "\n",
            "Test set: Average loss: 0.5144, Accuracy: 8265/10000 (82.65%)\n",
            "\n",
            "EPOCH: 41\n"
          ]
        },
        {
          "output_type": "stream",
          "name": "stderr",
          "text": [
            "Loss=1.1180758476257324 Batch_id=390 Accuracy=76.07: 100%|██████████| 391/391 [00:16<00:00, 23.42it/s]"
          ]
        },
        {
          "output_type": "stream",
          "name": "stdout",
          "text": [
            "\n",
            " Average Training Loss=0.008253388887643815, Accuracy=76.072\n"
          ]
        },
        {
          "output_type": "stream",
          "name": "stderr",
          "text": [
            "\n"
          ]
        },
        {
          "output_type": "stream",
          "name": "stdout",
          "text": [
            "\n",
            "Test set: Average loss: 0.5056, Accuracy: 8283/10000 (82.83%)\n",
            "\n",
            "EPOCH: 42\n"
          ]
        },
        {
          "output_type": "stream",
          "name": "stderr",
          "text": [
            "Loss=1.150144338607788 Batch_id=390 Accuracy=76.67: 100%|██████████| 391/391 [00:16<00:00, 23.86it/s]"
          ]
        },
        {
          "output_type": "stream",
          "name": "stdout",
          "text": [
            "\n",
            " Average Training Loss=0.008086401802301408, Accuracy=76.668\n"
          ]
        },
        {
          "output_type": "stream",
          "name": "stderr",
          "text": [
            "\n"
          ]
        },
        {
          "output_type": "stream",
          "name": "stdout",
          "text": [
            "\n",
            "Test set: Average loss: 0.4967, Accuracy: 8300/10000 (83.00%)\n",
            "\n",
            "EPOCH: 43\n"
          ]
        },
        {
          "output_type": "stream",
          "name": "stderr",
          "text": [
            "Loss=0.8690747022628784 Batch_id=390 Accuracy=76.90: 100%|██████████| 391/391 [00:16<00:00, 24.01it/s]"
          ]
        },
        {
          "output_type": "stream",
          "name": "stdout",
          "text": [
            "\n",
            " Average Training Loss=0.007968098230361938, Accuracy=76.898\n"
          ]
        },
        {
          "output_type": "stream",
          "name": "stderr",
          "text": [
            "\n"
          ]
        },
        {
          "output_type": "stream",
          "name": "stdout",
          "text": [
            "\n",
            "Test set: Average loss: 0.4931, Accuracy: 8323/10000 (83.23%)\n",
            "\n",
            "EPOCH: 44\n"
          ]
        },
        {
          "output_type": "stream",
          "name": "stderr",
          "text": [
            "Loss=0.9214755892753601 Batch_id=390 Accuracy=77.06: 100%|██████████| 391/391 [00:16<00:00, 24.05it/s]"
          ]
        },
        {
          "output_type": "stream",
          "name": "stdout",
          "text": [
            "\n",
            " Average Training Loss=0.007857315775156021, Accuracy=77.062\n"
          ]
        },
        {
          "output_type": "stream",
          "name": "stderr",
          "text": [
            "\n"
          ]
        },
        {
          "output_type": "stream",
          "name": "stdout",
          "text": [
            "\n",
            "Test set: Average loss: 0.4928, Accuracy: 8330/10000 (83.30%)\n",
            "\n",
            "EPOCH: 45\n"
          ]
        },
        {
          "output_type": "stream",
          "name": "stderr",
          "text": [
            "Loss=1.074986219406128 Batch_id=390 Accuracy=77.61: 100%|██████████| 391/391 [00:17<00:00, 22.84it/s]"
          ]
        },
        {
          "output_type": "stream",
          "name": "stdout",
          "text": [
            "\n",
            " Average Training Loss=0.007721203521490097, Accuracy=77.614\n"
          ]
        },
        {
          "output_type": "stream",
          "name": "stderr",
          "text": [
            "\n"
          ]
        },
        {
          "output_type": "stream",
          "name": "stdout",
          "text": [
            "\n",
            "Test set: Average loss: 0.4930, Accuracy: 8328/10000 (83.28%)\n",
            "\n",
            "EPOCH: 46\n"
          ]
        },
        {
          "output_type": "stream",
          "name": "stderr",
          "text": [
            "Loss=0.965872585773468 Batch_id=390 Accuracy=77.24: 100%|██████████| 391/391 [00:16<00:00, 23.73it/s]\n"
          ]
        },
        {
          "output_type": "stream",
          "name": "stdout",
          "text": [
            "\n",
            " Average Training Loss=0.007747365993261337, Accuracy=77.242\n",
            "\n",
            "Test set: Average loss: 0.4928, Accuracy: 8347/10000 (83.47%)\n",
            "\n",
            "EPOCH: 47\n"
          ]
        },
        {
          "output_type": "stream",
          "name": "stderr",
          "text": [
            "Loss=0.936637282371521 Batch_id=390 Accuracy=77.27: 100%|██████████| 391/391 [00:16<00:00, 24.11it/s]"
          ]
        },
        {
          "output_type": "stream",
          "name": "stdout",
          "text": [
            "\n",
            " Average Training Loss=0.007703890120983123, Accuracy=77.27\n"
          ]
        },
        {
          "output_type": "stream",
          "name": "stderr",
          "text": [
            "\n"
          ]
        },
        {
          "output_type": "stream",
          "name": "stdout",
          "text": [
            "\n",
            "Test set: Average loss: 0.4884, Accuracy: 8361/10000 (83.61%)\n",
            "\n",
            "EPOCH: 48\n"
          ]
        },
        {
          "output_type": "stream",
          "name": "stderr",
          "text": [
            "Loss=1.157999873161316 Batch_id=390 Accuracy=77.49: 100%|██████████| 391/391 [00:16<00:00, 24.16it/s]\n"
          ]
        },
        {
          "output_type": "stream",
          "name": "stdout",
          "text": [
            "\n",
            " Average Training Loss=0.007641382546424866, Accuracy=77.486\n",
            "\n",
            "Test set: Average loss: 0.4840, Accuracy: 8354/10000 (83.54%)\n",
            "\n",
            "EPOCH: 49\n"
          ]
        },
        {
          "output_type": "stream",
          "name": "stderr",
          "text": [
            "Loss=0.8497554659843445 Batch_id=390 Accuracy=77.58: 100%|██████████| 391/391 [00:18<00:00, 21.02it/s]"
          ]
        },
        {
          "output_type": "stream",
          "name": "stdout",
          "text": [
            "\n",
            " Average Training Loss=0.007637950694561004, Accuracy=77.584\n"
          ]
        },
        {
          "output_type": "stream",
          "name": "stderr",
          "text": [
            "\n"
          ]
        },
        {
          "output_type": "stream",
          "name": "stdout",
          "text": [
            "\n",
            "Test set: Average loss: 0.4833, Accuracy: 8387/10000 (83.87%)\n",
            "\n",
            "EPOCH: 50\n"
          ]
        },
        {
          "output_type": "stream",
          "name": "stderr",
          "text": [
            "Loss=1.0721161365509033 Batch_id=390 Accuracy=77.76: 100%|██████████| 391/391 [00:16<00:00, 24.42it/s]"
          ]
        },
        {
          "output_type": "stream",
          "name": "stdout",
          "text": [
            "\n",
            " Average Training Loss=0.007558102765083313, Accuracy=77.764\n"
          ]
        },
        {
          "output_type": "stream",
          "name": "stderr",
          "text": [
            "\n"
          ]
        },
        {
          "output_type": "stream",
          "name": "stdout",
          "text": [
            "\n",
            "Test set: Average loss: 0.4824, Accuracy: 8371/10000 (83.71%)\n",
            "\n",
            "EPOCH: 51\n"
          ]
        },
        {
          "output_type": "stream",
          "name": "stderr",
          "text": [
            "Loss=1.152252435684204 Batch_id=390 Accuracy=77.78: 100%|██████████| 391/391 [00:16<00:00, 23.78it/s]"
          ]
        },
        {
          "output_type": "stream",
          "name": "stdout",
          "text": [
            "\n",
            " Average Training Loss=0.0075048539686203, Accuracy=77.776\n"
          ]
        },
        {
          "output_type": "stream",
          "name": "stderr",
          "text": [
            "\n"
          ]
        },
        {
          "output_type": "stream",
          "name": "stdout",
          "text": [
            "\n",
            "Test set: Average loss: 0.4837, Accuracy: 8367/10000 (83.67%)\n",
            "\n",
            "EPOCH: 52\n"
          ]
        },
        {
          "output_type": "stream",
          "name": "stderr",
          "text": [
            "Loss=0.8135130405426025 Batch_id=390 Accuracy=77.62: 100%|██████████| 391/391 [00:16<00:00, 24.05it/s]\n"
          ]
        },
        {
          "output_type": "stream",
          "name": "stdout",
          "text": [
            "\n",
            " Average Training Loss=0.0075274201726913455, Accuracy=77.62\n",
            "\n",
            "Test set: Average loss: 0.4792, Accuracy: 8373/10000 (83.73%)\n",
            "\n",
            "EPOCH: 53\n"
          ]
        },
        {
          "output_type": "stream",
          "name": "stderr",
          "text": [
            "Loss=0.9497820138931274 Batch_id=390 Accuracy=77.70: 100%|██████████| 391/391 [00:16<00:00, 23.91it/s]"
          ]
        },
        {
          "output_type": "stream",
          "name": "stdout",
          "text": [
            "\n",
            " Average Training Loss=0.007489331785440445, Accuracy=77.696\n"
          ]
        },
        {
          "output_type": "stream",
          "name": "stderr",
          "text": [
            "\n"
          ]
        },
        {
          "output_type": "stream",
          "name": "stdout",
          "text": [
            "\n",
            "Test set: Average loss: 0.4830, Accuracy: 8354/10000 (83.54%)\n",
            "\n",
            "EPOCH: 54\n"
          ]
        },
        {
          "output_type": "stream",
          "name": "stderr",
          "text": [
            "Loss=1.2332453727722168 Batch_id=390 Accuracy=78.05: 100%|██████████| 391/391 [00:16<00:00, 23.53it/s]"
          ]
        },
        {
          "output_type": "stream",
          "name": "stdout",
          "text": [
            "\n",
            " Average Training Loss=0.007401499501466751, Accuracy=78.05\n"
          ]
        },
        {
          "output_type": "stream",
          "name": "stderr",
          "text": [
            "\n"
          ]
        },
        {
          "output_type": "stream",
          "name": "stdout",
          "text": [
            "\n",
            "Test set: Average loss: 0.4819, Accuracy: 8367/10000 (83.67%)\n",
            "\n",
            "EPOCH: 55\n"
          ]
        },
        {
          "output_type": "stream",
          "name": "stderr",
          "text": [
            "Loss=1.0100061893463135 Batch_id=390 Accuracy=77.96: 100%|██████████| 391/391 [00:16<00:00, 24.32it/s]"
          ]
        },
        {
          "output_type": "stream",
          "name": "stdout",
          "text": [
            "\n",
            " Average Training Loss=0.007423431262969971, Accuracy=77.96\n"
          ]
        },
        {
          "output_type": "stream",
          "name": "stderr",
          "text": [
            "\n"
          ]
        },
        {
          "output_type": "stream",
          "name": "stdout",
          "text": [
            "\n",
            "Test set: Average loss: 0.4830, Accuracy: 8365/10000 (83.65%)\n",
            "\n",
            "EPOCH: 56\n"
          ]
        },
        {
          "output_type": "stream",
          "name": "stderr",
          "text": [
            "Loss=1.2830950021743774 Batch_id=390 Accuracy=77.80: 100%|██████████| 391/391 [00:16<00:00, 23.89it/s]"
          ]
        },
        {
          "output_type": "stream",
          "name": "stdout",
          "text": [
            "\n",
            " Average Training Loss=0.007397586944103241, Accuracy=77.804\n"
          ]
        },
        {
          "output_type": "stream",
          "name": "stderr",
          "text": [
            "\n"
          ]
        },
        {
          "output_type": "stream",
          "name": "stdout",
          "text": [
            "\n",
            "Test set: Average loss: 0.4832, Accuracy: 8358/10000 (83.58%)\n",
            "\n",
            "EPOCH: 57\n"
          ]
        },
        {
          "output_type": "stream",
          "name": "stderr",
          "text": [
            "Loss=0.9211888313293457 Batch_id=390 Accuracy=78.16: 100%|██████████| 391/391 [00:16<00:00, 24.24it/s]"
          ]
        },
        {
          "output_type": "stream",
          "name": "stdout",
          "text": [
            "\n",
            " Average Training Loss=0.007348914279937744, Accuracy=78.158\n"
          ]
        },
        {
          "output_type": "stream",
          "name": "stderr",
          "text": [
            "\n"
          ]
        },
        {
          "output_type": "stream",
          "name": "stdout",
          "text": [
            "\n",
            "Test set: Average loss: 0.4794, Accuracy: 8373/10000 (83.73%)\n",
            "\n",
            "EPOCH: 58\n"
          ]
        },
        {
          "output_type": "stream",
          "name": "stderr",
          "text": [
            "Loss=1.0496147871017456 Batch_id=390 Accuracy=78.15: 100%|██████████| 391/391 [00:16<00:00, 23.10it/s]"
          ]
        },
        {
          "output_type": "stream",
          "name": "stdout",
          "text": [
            "\n",
            " Average Training Loss=0.00730730378985405, Accuracy=78.152\n"
          ]
        },
        {
          "output_type": "stream",
          "name": "stderr",
          "text": [
            "\n"
          ]
        },
        {
          "output_type": "stream",
          "name": "stdout",
          "text": [
            "\n",
            "Test set: Average loss: 0.4773, Accuracy: 8395/10000 (83.95%)\n",
            "\n",
            "EPOCH: 59\n"
          ]
        },
        {
          "output_type": "stream",
          "name": "stderr",
          "text": [
            "Loss=1.1524170637130737 Batch_id=390 Accuracy=78.19: 100%|██████████| 391/391 [00:16<00:00, 24.18it/s]\n"
          ]
        },
        {
          "output_type": "stream",
          "name": "stdout",
          "text": [
            "\n",
            " Average Training Loss=0.007265646508932114, Accuracy=78.19\n",
            "\n",
            "Test set: Average loss: 0.4798, Accuracy: 8369/10000 (83.69%)\n",
            "\n",
            "EPOCH: 60\n"
          ]
        },
        {
          "output_type": "stream",
          "name": "stderr",
          "text": [
            "Loss=1.1543036699295044 Batch_id=390 Accuracy=78.31: 100%|██████████| 391/391 [00:16<00:00, 24.29it/s]"
          ]
        },
        {
          "output_type": "stream",
          "name": "stdout",
          "text": [
            "\n",
            " Average Training Loss=0.007266390413045883, Accuracy=78.308\n"
          ]
        },
        {
          "output_type": "stream",
          "name": "stderr",
          "text": [
            "\n"
          ]
        },
        {
          "output_type": "stream",
          "name": "stdout",
          "text": [
            "\n",
            "Test set: Average loss: 0.4803, Accuracy: 8373/10000 (83.73%)\n",
            "\n",
            "EPOCH: 61\n"
          ]
        },
        {
          "output_type": "stream",
          "name": "stderr",
          "text": [
            "Loss=0.9946707487106323 Batch_id=390 Accuracy=78.33: 100%|██████████| 391/391 [00:16<00:00, 24.07it/s]"
          ]
        },
        {
          "output_type": "stream",
          "name": "stdout",
          "text": [
            "\n",
            " Average Training Loss=0.007230745447874069, Accuracy=78.334\n"
          ]
        },
        {
          "output_type": "stream",
          "name": "stderr",
          "text": [
            "\n"
          ]
        },
        {
          "output_type": "stream",
          "name": "stdout",
          "text": [
            "\n",
            "Test set: Average loss: 0.4780, Accuracy: 8423/10000 (84.23%)\n",
            "\n",
            "EPOCH: 62\n"
          ]
        },
        {
          "output_type": "stream",
          "name": "stderr",
          "text": [
            "Loss=0.9894049167633057 Batch_id=390 Accuracy=78.30: 100%|██████████| 391/391 [00:16<00:00, 24.33it/s]"
          ]
        },
        {
          "output_type": "stream",
          "name": "stdout",
          "text": [
            "\n",
            " Average Training Loss=0.0072213616871833804, Accuracy=78.304\n"
          ]
        },
        {
          "output_type": "stream",
          "name": "stderr",
          "text": [
            "\n"
          ]
        },
        {
          "output_type": "stream",
          "name": "stdout",
          "text": [
            "\n",
            "Test set: Average loss: 0.4771, Accuracy: 8386/10000 (83.86%)\n",
            "\n",
            "EPOCH: 63\n"
          ]
        },
        {
          "output_type": "stream",
          "name": "stderr",
          "text": [
            "Loss=0.9379560351371765 Batch_id=390 Accuracy=78.55: 100%|██████████| 391/391 [00:16<00:00, 23.07it/s]"
          ]
        },
        {
          "output_type": "stream",
          "name": "stdout",
          "text": [
            "\n",
            " Average Training Loss=0.007138698251247406, Accuracy=78.55\n"
          ]
        },
        {
          "output_type": "stream",
          "name": "stderr",
          "text": [
            "\n"
          ]
        },
        {
          "output_type": "stream",
          "name": "stdout",
          "text": [
            "\n",
            "Test set: Average loss: 0.4746, Accuracy: 8416/10000 (84.16%)\n",
            "\n",
            "EPOCH: 64\n"
          ]
        },
        {
          "output_type": "stream",
          "name": "stderr",
          "text": [
            "Loss=0.8531699180603027 Batch_id=390 Accuracy=78.21: 100%|██████████| 391/391 [00:17<00:00, 21.96it/s]"
          ]
        },
        {
          "output_type": "stream",
          "name": "stdout",
          "text": [
            "\n",
            " Average Training Loss=0.007183500981330871, Accuracy=78.214\n"
          ]
        },
        {
          "output_type": "stream",
          "name": "stderr",
          "text": [
            "\n"
          ]
        },
        {
          "output_type": "stream",
          "name": "stdout",
          "text": [
            "\n",
            "Test set: Average loss: 0.4735, Accuracy: 8407/10000 (84.07%)\n",
            "\n",
            "EPOCH: 65\n"
          ]
        },
        {
          "output_type": "stream",
          "name": "stderr",
          "text": [
            "Loss=1.002650499343872 Batch_id=390 Accuracy=78.28: 100%|██████████| 391/391 [00:16<00:00, 23.94it/s]"
          ]
        },
        {
          "output_type": "stream",
          "name": "stdout",
          "text": [
            "\n",
            " Average Training Loss=0.00718288994550705, Accuracy=78.284\n"
          ]
        },
        {
          "output_type": "stream",
          "name": "stderr",
          "text": [
            "\n"
          ]
        },
        {
          "output_type": "stream",
          "name": "stdout",
          "text": [
            "\n",
            "Test set: Average loss: 0.4724, Accuracy: 8415/10000 (84.15%)\n",
            "\n",
            "EPOCH: 66\n"
          ]
        },
        {
          "output_type": "stream",
          "name": "stderr",
          "text": [
            "Loss=0.9414713382720947 Batch_id=390 Accuracy=78.50: 100%|██████████| 391/391 [00:16<00:00, 23.54it/s]"
          ]
        },
        {
          "output_type": "stream",
          "name": "stdout",
          "text": [
            "\n",
            " Average Training Loss=0.007147204550504684, Accuracy=78.496\n"
          ]
        },
        {
          "output_type": "stream",
          "name": "stderr",
          "text": [
            "\n"
          ]
        },
        {
          "output_type": "stream",
          "name": "stdout",
          "text": [
            "\n",
            "Test set: Average loss: 0.4766, Accuracy: 8412/10000 (84.12%)\n",
            "\n",
            "EPOCH: 67\n"
          ]
        },
        {
          "output_type": "stream",
          "name": "stderr",
          "text": [
            "Loss=0.8867943286895752 Batch_id=390 Accuracy=78.29: 100%|██████████| 391/391 [00:16<00:00, 23.42it/s]"
          ]
        },
        {
          "output_type": "stream",
          "name": "stdout",
          "text": [
            "\n",
            " Average Training Loss=0.007167821743488312, Accuracy=78.29\n"
          ]
        },
        {
          "output_type": "stream",
          "name": "stderr",
          "text": [
            "\n"
          ]
        },
        {
          "output_type": "stream",
          "name": "stdout",
          "text": [
            "\n",
            "Test set: Average loss: 0.4701, Accuracy: 8434/10000 (84.34%)\n",
            "\n",
            "EPOCH: 68\n"
          ]
        },
        {
          "output_type": "stream",
          "name": "stderr",
          "text": [
            "Loss=0.9303873181343079 Batch_id=390 Accuracy=78.46: 100%|██████████| 391/391 [00:17<00:00, 22.96it/s]"
          ]
        },
        {
          "output_type": "stream",
          "name": "stdout",
          "text": [
            "\n",
            " Average Training Loss=0.007123951374292374, Accuracy=78.456\n"
          ]
        },
        {
          "output_type": "stream",
          "name": "stderr",
          "text": [
            "\n"
          ]
        },
        {
          "output_type": "stream",
          "name": "stdout",
          "text": [
            "\n",
            "Test set: Average loss: 0.4708, Accuracy: 8409/10000 (84.09%)\n",
            "\n",
            "EPOCH: 69\n"
          ]
        },
        {
          "output_type": "stream",
          "name": "stderr",
          "text": [
            "Loss=0.8068909645080566 Batch_id=390 Accuracy=78.26: 100%|██████████| 391/391 [00:16<00:00, 23.63it/s]"
          ]
        },
        {
          "output_type": "stream",
          "name": "stdout",
          "text": [
            "\n",
            " Average Training Loss=0.007128842488527298, Accuracy=78.262\n"
          ]
        },
        {
          "output_type": "stream",
          "name": "stderr",
          "text": [
            "\n"
          ]
        },
        {
          "output_type": "stream",
          "name": "stdout",
          "text": [
            "\n",
            "Test set: Average loss: 0.4713, Accuracy: 8419/10000 (84.19%)\n",
            "\n",
            "EPOCH: 70\n"
          ]
        },
        {
          "output_type": "stream",
          "name": "stderr",
          "text": [
            "Loss=0.9058403968811035 Batch_id=390 Accuracy=78.35: 100%|██████████| 391/391 [00:16<00:00, 23.72it/s]"
          ]
        },
        {
          "output_type": "stream",
          "name": "stdout",
          "text": [
            "\n",
            " Average Training Loss=0.007113648881912232, Accuracy=78.348\n"
          ]
        },
        {
          "output_type": "stream",
          "name": "stderr",
          "text": [
            "\n"
          ]
        },
        {
          "output_type": "stream",
          "name": "stdout",
          "text": [
            "\n",
            "Test set: Average loss: 0.4777, Accuracy: 8383/10000 (83.83%)\n",
            "\n",
            "EPOCH: 71\n"
          ]
        },
        {
          "output_type": "stream",
          "name": "stderr",
          "text": [
            "Loss=0.7986933588981628 Batch_id=390 Accuracy=78.56: 100%|██████████| 391/391 [00:16<00:00, 23.95it/s]"
          ]
        },
        {
          "output_type": "stream",
          "name": "stdout",
          "text": [
            "\n",
            " Average Training Loss=0.00705628830909729, Accuracy=78.56\n"
          ]
        },
        {
          "output_type": "stream",
          "name": "stderr",
          "text": [
            "\n"
          ]
        },
        {
          "output_type": "stream",
          "name": "stdout",
          "text": [
            "\n",
            "Test set: Average loss: 0.4726, Accuracy: 8385/10000 (83.85%)\n",
            "\n",
            "EPOCH: 72\n"
          ]
        },
        {
          "output_type": "stream",
          "name": "stderr",
          "text": [
            "Loss=0.8755314350128174 Batch_id=390 Accuracy=78.57: 100%|██████████| 391/391 [00:16<00:00, 23.18it/s]"
          ]
        },
        {
          "output_type": "stream",
          "name": "stdout",
          "text": [
            "\n",
            " Average Training Loss=0.007066540172100067, Accuracy=78.57\n"
          ]
        },
        {
          "output_type": "stream",
          "name": "stderr",
          "text": [
            "\n"
          ]
        },
        {
          "output_type": "stream",
          "name": "stdout",
          "text": [
            "\n",
            "Test set: Average loss: 0.4718, Accuracy: 8401/10000 (84.01%)\n",
            "\n",
            "EPOCH: 73\n"
          ]
        },
        {
          "output_type": "stream",
          "name": "stderr",
          "text": [
            "Loss=0.861499547958374 Batch_id=390 Accuracy=78.63: 100%|██████████| 391/391 [00:16<00:00, 23.76it/s]"
          ]
        },
        {
          "output_type": "stream",
          "name": "stdout",
          "text": [
            "\n",
            " Average Training Loss=0.0070526437819004055, Accuracy=78.63\n"
          ]
        },
        {
          "output_type": "stream",
          "name": "stderr",
          "text": [
            "\n"
          ]
        },
        {
          "output_type": "stream",
          "name": "stdout",
          "text": [
            "\n",
            "Test set: Average loss: 0.4708, Accuracy: 8411/10000 (84.11%)\n",
            "\n",
            "EPOCH: 74\n"
          ]
        },
        {
          "output_type": "stream",
          "name": "stderr",
          "text": [
            "Loss=0.8226120471954346 Batch_id=390 Accuracy=78.67: 100%|██████████| 391/391 [00:16<00:00, 23.86it/s]"
          ]
        },
        {
          "output_type": "stream",
          "name": "stdout",
          "text": [
            "\n",
            " Average Training Loss=0.007017023727893829, Accuracy=78.668\n"
          ]
        },
        {
          "output_type": "stream",
          "name": "stderr",
          "text": [
            "\n"
          ]
        },
        {
          "output_type": "stream",
          "name": "stdout",
          "text": [
            "\n",
            "Test set: Average loss: 0.4681, Accuracy: 8414/10000 (84.14%)\n",
            "\n",
            "EPOCH: 75\n"
          ]
        },
        {
          "output_type": "stream",
          "name": "stderr",
          "text": [
            "Loss=0.9114948511123657 Batch_id=390 Accuracy=78.84: 100%|██████████| 391/391 [00:16<00:00, 23.43it/s]\n"
          ]
        },
        {
          "output_type": "stream",
          "name": "stdout",
          "text": [
            "\n",
            " Average Training Loss=0.0069521546983718875, Accuracy=78.836\n",
            "\n",
            "Test set: Average loss: 0.4726, Accuracy: 8398/10000 (83.98%)\n",
            "\n",
            "EPOCH: 76\n"
          ]
        },
        {
          "output_type": "stream",
          "name": "stderr",
          "text": [
            "Loss=0.9612948894500732 Batch_id=390 Accuracy=78.97: 100%|██████████| 391/391 [00:16<00:00, 23.18it/s]"
          ]
        },
        {
          "output_type": "stream",
          "name": "stdout",
          "text": [
            "\n",
            " Average Training Loss=0.006938225349187851, Accuracy=78.966\n"
          ]
        },
        {
          "output_type": "stream",
          "name": "stderr",
          "text": [
            "\n"
          ]
        },
        {
          "output_type": "stream",
          "name": "stdout",
          "text": [
            "\n",
            "Test set: Average loss: 0.4694, Accuracy: 8434/10000 (84.34%)\n",
            "\n",
            "EPOCH: 77\n"
          ]
        },
        {
          "output_type": "stream",
          "name": "stderr",
          "text": [
            "Loss=0.808419406414032 Batch_id=390 Accuracy=78.94: 100%|██████████| 391/391 [00:16<00:00, 23.86it/s]"
          ]
        },
        {
          "output_type": "stream",
          "name": "stdout",
          "text": [
            "\n",
            " Average Training Loss=0.00694871866941452, Accuracy=78.944\n"
          ]
        },
        {
          "output_type": "stream",
          "name": "stderr",
          "text": [
            "\n"
          ]
        },
        {
          "output_type": "stream",
          "name": "stdout",
          "text": [
            "\n",
            "Test set: Average loss: 0.4732, Accuracy: 8402/10000 (84.02%)\n",
            "\n",
            "EPOCH: 78\n"
          ]
        },
        {
          "output_type": "stream",
          "name": "stderr",
          "text": [
            "Loss=0.7994824051856995 Batch_id=390 Accuracy=78.82: 100%|██████████| 391/391 [00:16<00:00, 23.50it/s]"
          ]
        },
        {
          "output_type": "stream",
          "name": "stdout",
          "text": [
            "\n",
            " Average Training Loss=0.006930334340333939, Accuracy=78.818\n"
          ]
        },
        {
          "output_type": "stream",
          "name": "stderr",
          "text": [
            "\n"
          ]
        },
        {
          "output_type": "stream",
          "name": "stdout",
          "text": [
            "\n",
            "Test set: Average loss: 0.4714, Accuracy: 8439/10000 (84.39%)\n",
            "\n",
            "EPOCH: 79\n"
          ]
        },
        {
          "output_type": "stream",
          "name": "stderr",
          "text": [
            "Loss=0.9200584888458252 Batch_id=390 Accuracy=78.95: 100%|██████████| 391/391 [00:18<00:00, 21.68it/s]"
          ]
        },
        {
          "output_type": "stream",
          "name": "stdout",
          "text": [
            "\n",
            " Average Training Loss=0.006948505187034607, Accuracy=78.952\n"
          ]
        },
        {
          "output_type": "stream",
          "name": "stderr",
          "text": [
            "\n"
          ]
        },
        {
          "output_type": "stream",
          "name": "stdout",
          "text": [
            "\n",
            "Test set: Average loss: 0.4686, Accuracy: 8423/10000 (84.23%)\n",
            "\n",
            "EPOCH: 80\n"
          ]
        },
        {
          "output_type": "stream",
          "name": "stderr",
          "text": [
            "Loss=0.8205202221870422 Batch_id=390 Accuracy=79.10: 100%|██████████| 391/391 [00:16<00:00, 23.79it/s]"
          ]
        },
        {
          "output_type": "stream",
          "name": "stdout",
          "text": [
            "\n",
            " Average Training Loss=0.006853111953735351, Accuracy=79.096\n"
          ]
        },
        {
          "output_type": "stream",
          "name": "stderr",
          "text": [
            "\n"
          ]
        },
        {
          "output_type": "stream",
          "name": "stdout",
          "text": [
            "\n",
            "Test set: Average loss: 0.4600, Accuracy: 8439/10000 (84.39%)\n",
            "\n",
            "EPOCH: 81\n"
          ]
        },
        {
          "output_type": "stream",
          "name": "stderr",
          "text": [
            "Loss=0.8861594200134277 Batch_id=390 Accuracy=79.46: 100%|██████████| 391/391 [00:16<00:00, 23.01it/s]"
          ]
        },
        {
          "output_type": "stream",
          "name": "stdout",
          "text": [
            "\n",
            " Average Training Loss=0.006799886685609818, Accuracy=79.456\n"
          ]
        },
        {
          "output_type": "stream",
          "name": "stderr",
          "text": [
            "\n"
          ]
        },
        {
          "output_type": "stream",
          "name": "stdout",
          "text": [
            "\n",
            "Test set: Average loss: 0.4576, Accuracy: 8449/10000 (84.49%)\n",
            "\n",
            "EPOCH: 82\n"
          ]
        },
        {
          "output_type": "stream",
          "name": "stderr",
          "text": [
            "Loss=0.866545557975769 Batch_id=390 Accuracy=79.36: 100%|██████████| 391/391 [00:16<00:00, 24.11it/s]"
          ]
        },
        {
          "output_type": "stream",
          "name": "stdout",
          "text": [
            "\n",
            " Average Training Loss=0.006812600048780441, Accuracy=79.356\n"
          ]
        },
        {
          "output_type": "stream",
          "name": "stderr",
          "text": [
            "\n"
          ]
        },
        {
          "output_type": "stream",
          "name": "stdout",
          "text": [
            "\n",
            "Test set: Average loss: 0.4621, Accuracy: 8431/10000 (84.31%)\n",
            "\n",
            "EPOCH: 83\n"
          ]
        },
        {
          "output_type": "stream",
          "name": "stderr",
          "text": [
            "Loss=0.7490679025650024 Batch_id=390 Accuracy=79.55: 100%|██████████| 391/391 [00:16<00:00, 23.89it/s]"
          ]
        },
        {
          "output_type": "stream",
          "name": "stdout",
          "text": [
            "\n",
            " Average Training Loss=0.006781294354200363, Accuracy=79.548\n"
          ]
        },
        {
          "output_type": "stream",
          "name": "stderr",
          "text": [
            "\n"
          ]
        },
        {
          "output_type": "stream",
          "name": "stdout",
          "text": [
            "\n",
            "Test set: Average loss: 0.4569, Accuracy: 8455/10000 (84.55%)\n",
            "\n",
            "EPOCH: 84\n"
          ]
        },
        {
          "output_type": "stream",
          "name": "stderr",
          "text": [
            "Loss=1.17779541015625 Batch_id=390 Accuracy=79.25: 100%|██████████| 391/391 [00:16<00:00, 24.13it/s]"
          ]
        },
        {
          "output_type": "stream",
          "name": "stdout",
          "text": [
            "\n",
            " Average Training Loss=0.006798025289773941, Accuracy=79.25\n"
          ]
        },
        {
          "output_type": "stream",
          "name": "stderr",
          "text": [
            "\n"
          ]
        },
        {
          "output_type": "stream",
          "name": "stdout",
          "text": [
            "\n",
            "Test set: Average loss: 0.4599, Accuracy: 8443/10000 (84.43%)\n",
            "\n",
            "EPOCH: 85\n"
          ]
        },
        {
          "output_type": "stream",
          "name": "stderr",
          "text": [
            "Loss=0.8153195977210999 Batch_id=390 Accuracy=79.46: 100%|██████████| 391/391 [00:16<00:00, 23.43it/s]"
          ]
        },
        {
          "output_type": "stream",
          "name": "stdout",
          "text": [
            "\n",
            " Average Training Loss=0.00677860534787178, Accuracy=79.456\n"
          ]
        },
        {
          "output_type": "stream",
          "name": "stderr",
          "text": [
            "\n"
          ]
        },
        {
          "output_type": "stream",
          "name": "stdout",
          "text": [
            "\n",
            "Test set: Average loss: 0.4595, Accuracy: 8438/10000 (84.38%)\n",
            "\n",
            "EPOCH: 86\n"
          ]
        },
        {
          "output_type": "stream",
          "name": "stderr",
          "text": [
            "Loss=0.8200198411941528 Batch_id=390 Accuracy=79.65: 100%|██████████| 391/391 [00:16<00:00, 23.40it/s]"
          ]
        },
        {
          "output_type": "stream",
          "name": "stdout",
          "text": [
            "\n",
            " Average Training Loss=0.006723842084407806, Accuracy=79.654\n"
          ]
        },
        {
          "output_type": "stream",
          "name": "stderr",
          "text": [
            "\n"
          ]
        },
        {
          "output_type": "stream",
          "name": "stdout",
          "text": [
            "\n",
            "Test set: Average loss: 0.4545, Accuracy: 8464/10000 (84.64%)\n",
            "\n",
            "EPOCH: 87\n"
          ]
        },
        {
          "output_type": "stream",
          "name": "stderr",
          "text": [
            "Loss=1.134480357170105 Batch_id=390 Accuracy=79.43: 100%|██████████| 391/391 [00:16<00:00, 23.88it/s]"
          ]
        },
        {
          "output_type": "stream",
          "name": "stdout",
          "text": [
            "\n",
            " Average Training Loss=0.006749540176391602, Accuracy=79.43\n"
          ]
        },
        {
          "output_type": "stream",
          "name": "stderr",
          "text": [
            "\n"
          ]
        },
        {
          "output_type": "stream",
          "name": "stdout",
          "text": [
            "\n",
            "Test set: Average loss: 0.4590, Accuracy: 8433/10000 (84.33%)\n",
            "\n",
            "EPOCH: 88\n"
          ]
        },
        {
          "output_type": "stream",
          "name": "stderr",
          "text": [
            "Loss=0.9935846328735352 Batch_id=390 Accuracy=79.48: 100%|██████████| 391/391 [00:16<00:00, 23.65it/s]"
          ]
        },
        {
          "output_type": "stream",
          "name": "stdout",
          "text": [
            "\n",
            " Average Training Loss=0.006758749655485153, Accuracy=79.48\n"
          ]
        },
        {
          "output_type": "stream",
          "name": "stderr",
          "text": [
            "\n"
          ]
        },
        {
          "output_type": "stream",
          "name": "stdout",
          "text": [
            "\n",
            "Test set: Average loss: 0.4558, Accuracy: 8461/10000 (84.61%)\n",
            "\n",
            "EPOCH: 89\n"
          ]
        },
        {
          "output_type": "stream",
          "name": "stderr",
          "text": [
            "Loss=0.6574864387512207 Batch_id=390 Accuracy=79.47: 100%|██████████| 391/391 [00:16<00:00, 23.63it/s]"
          ]
        },
        {
          "output_type": "stream",
          "name": "stdout",
          "text": [
            "\n",
            " Average Training Loss=0.006753388457298279, Accuracy=79.472\n"
          ]
        },
        {
          "output_type": "stream",
          "name": "stderr",
          "text": [
            "\n"
          ]
        },
        {
          "output_type": "stream",
          "name": "stdout",
          "text": [
            "\n",
            "Test set: Average loss: 0.4562, Accuracy: 8443/10000 (84.43%)\n",
            "\n",
            "EPOCH: 90\n"
          ]
        },
        {
          "output_type": "stream",
          "name": "stderr",
          "text": [
            "Loss=0.8567181825637817 Batch_id=390 Accuracy=79.67: 100%|██████████| 391/391 [00:16<00:00, 23.09it/s]"
          ]
        },
        {
          "output_type": "stream",
          "name": "stdout",
          "text": [
            "\n",
            " Average Training Loss=0.006711106164455414, Accuracy=79.67\n"
          ]
        },
        {
          "output_type": "stream",
          "name": "stderr",
          "text": [
            "\n"
          ]
        },
        {
          "output_type": "stream",
          "name": "stdout",
          "text": [
            "\n",
            "Test set: Average loss: 0.4556, Accuracy: 8457/10000 (84.57%)\n",
            "\n",
            "EPOCH: 91\n"
          ]
        },
        {
          "output_type": "stream",
          "name": "stderr",
          "text": [
            "Loss=0.8720968961715698 Batch_id=390 Accuracy=79.53: 100%|██████████| 391/391 [00:16<00:00, 23.98it/s]"
          ]
        },
        {
          "output_type": "stream",
          "name": "stdout",
          "text": [
            "\n",
            " Average Training Loss=0.006744503918886185, Accuracy=79.534\n"
          ]
        },
        {
          "output_type": "stream",
          "name": "stderr",
          "text": [
            "\n"
          ]
        },
        {
          "output_type": "stream",
          "name": "stdout",
          "text": [
            "\n",
            "Test set: Average loss: 0.4568, Accuracy: 8458/10000 (84.58%)\n",
            "\n",
            "EPOCH: 92\n"
          ]
        },
        {
          "output_type": "stream",
          "name": "stderr",
          "text": [
            "Loss=0.9042276740074158 Batch_id=390 Accuracy=79.65: 100%|██████████| 391/391 [00:16<00:00, 23.39it/s]"
          ]
        },
        {
          "output_type": "stream",
          "name": "stdout",
          "text": [
            "\n",
            " Average Training Loss=0.0067028211271762846, Accuracy=79.648\n"
          ]
        },
        {
          "output_type": "stream",
          "name": "stderr",
          "text": [
            "\n"
          ]
        },
        {
          "output_type": "stream",
          "name": "stdout",
          "text": [
            "\n",
            "Test set: Average loss: 0.4569, Accuracy: 8455/10000 (84.55%)\n",
            "\n",
            "EPOCH: 93\n"
          ]
        },
        {
          "output_type": "stream",
          "name": "stderr",
          "text": [
            "Loss=1.059880256652832 Batch_id=390 Accuracy=79.46: 100%|██████████| 391/391 [00:17<00:00, 22.27it/s]"
          ]
        },
        {
          "output_type": "stream",
          "name": "stdout",
          "text": [
            "\n",
            " Average Training Loss=0.006728588538169861, Accuracy=79.46\n"
          ]
        },
        {
          "output_type": "stream",
          "name": "stderr",
          "text": [
            "\n"
          ]
        },
        {
          "output_type": "stream",
          "name": "stdout",
          "text": [
            "\n",
            "Test set: Average loss: 0.4559, Accuracy: 8456/10000 (84.56%)\n",
            "\n",
            "EPOCH: 94\n"
          ]
        },
        {
          "output_type": "stream",
          "name": "stderr",
          "text": [
            "Loss=0.7450201511383057 Batch_id=390 Accuracy=79.63: 100%|██████████| 391/391 [00:17<00:00, 22.82it/s]"
          ]
        },
        {
          "output_type": "stream",
          "name": "stdout",
          "text": [
            "\n",
            " Average Training Loss=0.0066928335392475126, Accuracy=79.634\n"
          ]
        },
        {
          "output_type": "stream",
          "name": "stderr",
          "text": [
            "\n"
          ]
        },
        {
          "output_type": "stream",
          "name": "stdout",
          "text": [
            "\n",
            "Test set: Average loss: 0.4560, Accuracy: 8466/10000 (84.66%)\n",
            "\n",
            "EPOCH: 95\n"
          ]
        },
        {
          "output_type": "stream",
          "name": "stderr",
          "text": [
            "Loss=0.8723504543304443 Batch_id=390 Accuracy=79.62: 100%|██████████| 391/391 [00:16<00:00, 23.50it/s]"
          ]
        },
        {
          "output_type": "stream",
          "name": "stdout",
          "text": [
            "\n",
            " Average Training Loss=0.006695298622846603, Accuracy=79.624\n"
          ]
        },
        {
          "output_type": "stream",
          "name": "stderr",
          "text": [
            "\n"
          ]
        },
        {
          "output_type": "stream",
          "name": "stdout",
          "text": [
            "\n",
            "Test set: Average loss: 0.4562, Accuracy: 8448/10000 (84.48%)\n",
            "\n",
            "EPOCH: 96\n"
          ]
        },
        {
          "output_type": "stream",
          "name": "stderr",
          "text": [
            "Loss=1.1089417934417725 Batch_id=390 Accuracy=79.71: 100%|██████████| 391/391 [00:16<00:00, 23.62it/s]"
          ]
        },
        {
          "output_type": "stream",
          "name": "stdout",
          "text": [
            "\n",
            " Average Training Loss=0.0067064232623577115, Accuracy=79.712\n"
          ]
        },
        {
          "output_type": "stream",
          "name": "stderr",
          "text": [
            "\n"
          ]
        },
        {
          "output_type": "stream",
          "name": "stdout",
          "text": [
            "\n",
            "Test set: Average loss: 0.4593, Accuracy: 8439/10000 (84.39%)\n",
            "\n",
            "EPOCH: 97\n"
          ]
        },
        {
          "output_type": "stream",
          "name": "stderr",
          "text": [
            "Loss=0.7610126733779907 Batch_id=390 Accuracy=79.73: 100%|██████████| 391/391 [00:16<00:00, 23.73it/s]"
          ]
        },
        {
          "output_type": "stream",
          "name": "stdout",
          "text": [
            "\n",
            " Average Training Loss=0.006681669211387634, Accuracy=79.73\n"
          ]
        },
        {
          "output_type": "stream",
          "name": "stderr",
          "text": [
            "\n"
          ]
        },
        {
          "output_type": "stream",
          "name": "stdout",
          "text": [
            "\n",
            "Test set: Average loss: 0.4576, Accuracy: 8455/10000 (84.55%)\n",
            "\n",
            "EPOCH: 98\n"
          ]
        },
        {
          "output_type": "stream",
          "name": "stderr",
          "text": [
            "Loss=0.948754072189331 Batch_id=390 Accuracy=79.62: 100%|██████████| 391/391 [00:16<00:00, 23.19it/s]"
          ]
        },
        {
          "output_type": "stream",
          "name": "stdout",
          "text": [
            "\n",
            " Average Training Loss=0.006684149260520935, Accuracy=79.618\n"
          ]
        },
        {
          "output_type": "stream",
          "name": "stderr",
          "text": [
            "\n"
          ]
        },
        {
          "output_type": "stream",
          "name": "stdout",
          "text": [
            "\n",
            "Test set: Average loss: 0.4544, Accuracy: 8457/10000 (84.57%)\n",
            "\n",
            "EPOCH: 99\n"
          ]
        },
        {
          "output_type": "stream",
          "name": "stderr",
          "text": [
            "Loss=0.7615824341773987 Batch_id=390 Accuracy=80.18: 100%|██████████| 391/391 [00:16<00:00, 23.54it/s]"
          ]
        },
        {
          "output_type": "stream",
          "name": "stdout",
          "text": [
            "\n",
            " Average Training Loss=0.006601318836212158, Accuracy=80.182\n"
          ]
        },
        {
          "output_type": "stream",
          "name": "stderr",
          "text": [
            "\n"
          ]
        },
        {
          "output_type": "stream",
          "name": "stdout",
          "text": [
            "\n",
            "Test set: Average loss: 0.4564, Accuracy: 8462/10000 (84.62%)\n",
            "\n",
            "EPOCH: 100\n"
          ]
        },
        {
          "output_type": "stream",
          "name": "stderr",
          "text": [
            "Loss=0.7821371555328369 Batch_id=390 Accuracy=79.75: 100%|██████████| 391/391 [00:16<00:00, 23.51it/s]"
          ]
        },
        {
          "output_type": "stream",
          "name": "stdout",
          "text": [
            "\n",
            " Average Training Loss=0.006657482566833496, Accuracy=79.754\n"
          ]
        },
        {
          "output_type": "stream",
          "name": "stderr",
          "text": [
            "\n"
          ]
        },
        {
          "output_type": "stream",
          "name": "stdout",
          "text": [
            "\n",
            "Test set: Average loss: 0.4540, Accuracy: 8450/10000 (84.50%)\n",
            "\n",
            "EPOCH: 101\n"
          ]
        },
        {
          "output_type": "stream",
          "name": "stderr",
          "text": [
            "Loss=0.844374418258667 Batch_id=390 Accuracy=79.56: 100%|██████████| 391/391 [00:16<00:00, 23.77it/s]"
          ]
        },
        {
          "output_type": "stream",
          "name": "stdout",
          "text": [
            "\n",
            " Average Training Loss=0.0066752867794036864, Accuracy=79.56\n"
          ]
        },
        {
          "output_type": "stream",
          "name": "stderr",
          "text": [
            "\n"
          ]
        },
        {
          "output_type": "stream",
          "name": "stdout",
          "text": [
            "\n",
            "Test set: Average loss: 0.4563, Accuracy: 8455/10000 (84.55%)\n",
            "\n",
            "EPOCH: 102\n"
          ]
        },
        {
          "output_type": "stream",
          "name": "stderr",
          "text": [
            "Loss=0.6949011087417603 Batch_id=390 Accuracy=79.54: 100%|██████████| 391/391 [00:16<00:00, 23.50it/s]\n"
          ]
        },
        {
          "output_type": "stream",
          "name": "stdout",
          "text": [
            "\n",
            " Average Training Loss=0.006657952237129211, Accuracy=79.536\n",
            "\n",
            "Test set: Average loss: 0.4550, Accuracy: 8463/10000 (84.63%)\n",
            "\n",
            "EPOCH: 103\n"
          ]
        },
        {
          "output_type": "stream",
          "name": "stderr",
          "text": [
            "Loss=0.912074863910675 Batch_id=390 Accuracy=79.78: 100%|██████████| 391/391 [00:16<00:00, 23.02it/s]"
          ]
        },
        {
          "output_type": "stream",
          "name": "stdout",
          "text": [
            "\n",
            " Average Training Loss=0.00666524565577507, Accuracy=79.782\n"
          ]
        },
        {
          "output_type": "stream",
          "name": "stderr",
          "text": [
            "\n"
          ]
        },
        {
          "output_type": "stream",
          "name": "stdout",
          "text": [
            "\n",
            "Test set: Average loss: 0.4555, Accuracy: 8462/10000 (84.62%)\n",
            "\n",
            "EPOCH: 104\n"
          ]
        },
        {
          "output_type": "stream",
          "name": "stderr",
          "text": [
            "Loss=0.6772691011428833 Batch_id=390 Accuracy=79.68: 100%|██████████| 391/391 [00:16<00:00, 23.87it/s]"
          ]
        },
        {
          "output_type": "stream",
          "name": "stdout",
          "text": [
            "\n",
            " Average Training Loss=0.006680529288053513, Accuracy=79.682\n"
          ]
        },
        {
          "output_type": "stream",
          "name": "stderr",
          "text": [
            "\n"
          ]
        },
        {
          "output_type": "stream",
          "name": "stdout",
          "text": [
            "\n",
            "Test set: Average loss: 0.4570, Accuracy: 8461/10000 (84.61%)\n",
            "\n",
            "EPOCH: 105\n"
          ]
        },
        {
          "output_type": "stream",
          "name": "stderr",
          "text": [
            "Loss=0.7866981625556946 Batch_id=390 Accuracy=79.78: 100%|██████████| 391/391 [00:16<00:00, 23.31it/s]"
          ]
        },
        {
          "output_type": "stream",
          "name": "stdout",
          "text": [
            "\n",
            " Average Training Loss=0.006616917247772217, Accuracy=79.782\n"
          ]
        },
        {
          "output_type": "stream",
          "name": "stderr",
          "text": [
            "\n"
          ]
        },
        {
          "output_type": "stream",
          "name": "stdout",
          "text": [
            "\n",
            "Test set: Average loss: 0.4564, Accuracy: 8465/10000 (84.65%)\n",
            "\n",
            "EPOCH: 106\n"
          ]
        },
        {
          "output_type": "stream",
          "name": "stderr",
          "text": [
            "Loss=0.7965673208236694 Batch_id=390 Accuracy=79.71: 100%|██████████| 391/391 [00:16<00:00, 23.43it/s]"
          ]
        },
        {
          "output_type": "stream",
          "name": "stdout",
          "text": [
            "\n",
            " Average Training Loss=0.006716218345165253, Accuracy=79.708\n"
          ]
        },
        {
          "output_type": "stream",
          "name": "stderr",
          "text": [
            "\n"
          ]
        },
        {
          "output_type": "stream",
          "name": "stdout",
          "text": [
            "\n",
            "Test set: Average loss: 0.4545, Accuracy: 8439/10000 (84.39%)\n",
            "\n",
            "EPOCH: 107\n"
          ]
        },
        {
          "output_type": "stream",
          "name": "stderr",
          "text": [
            "Loss=0.9032160043716431 Batch_id=390 Accuracy=79.69: 100%|██████████| 391/391 [00:16<00:00, 23.02it/s]"
          ]
        },
        {
          "output_type": "stream",
          "name": "stdout",
          "text": [
            "\n",
            " Average Training Loss=0.006658002210855484, Accuracy=79.69\n"
          ]
        },
        {
          "output_type": "stream",
          "name": "stderr",
          "text": [
            "\n"
          ]
        },
        {
          "output_type": "stream",
          "name": "stdout",
          "text": [
            "\n",
            "Test set: Average loss: 0.4540, Accuracy: 8460/10000 (84.60%)\n",
            "\n",
            "EPOCH: 108\n"
          ]
        },
        {
          "output_type": "stream",
          "name": "stderr",
          "text": [
            "Loss=0.9164664149284363 Batch_id=390 Accuracy=79.90: 100%|██████████| 391/391 [00:18<00:00, 21.69it/s]"
          ]
        },
        {
          "output_type": "stream",
          "name": "stdout",
          "text": [
            "\n",
            " Average Training Loss=0.00662690463423729, Accuracy=79.902\n"
          ]
        },
        {
          "output_type": "stream",
          "name": "stderr",
          "text": [
            "\n"
          ]
        },
        {
          "output_type": "stream",
          "name": "stdout",
          "text": [
            "\n",
            "Test set: Average loss: 0.4557, Accuracy: 8442/10000 (84.42%)\n",
            "\n",
            "EPOCH: 109\n"
          ]
        },
        {
          "output_type": "stream",
          "name": "stderr",
          "text": [
            "Loss=0.8100214004516602 Batch_id=390 Accuracy=79.56: 100%|██████████| 391/391 [00:16<00:00, 23.31it/s]"
          ]
        },
        {
          "output_type": "stream",
          "name": "stdout",
          "text": [
            "\n",
            " Average Training Loss=0.006680277342796325, Accuracy=79.558\n"
          ]
        },
        {
          "output_type": "stream",
          "name": "stderr",
          "text": [
            "\n"
          ]
        },
        {
          "output_type": "stream",
          "name": "stdout",
          "text": [
            "\n",
            "Test set: Average loss: 0.4562, Accuracy: 8440/10000 (84.40%)\n",
            "\n",
            "EPOCH: 110\n"
          ]
        },
        {
          "output_type": "stream",
          "name": "stderr",
          "text": [
            "Loss=0.8713226318359375 Batch_id=390 Accuracy=79.82: 100%|██████████| 391/391 [00:16<00:00, 23.10it/s]\n"
          ]
        },
        {
          "output_type": "stream",
          "name": "stdout",
          "text": [
            "\n",
            " Average Training Loss=0.006630722397565842, Accuracy=79.822\n",
            "\n",
            "Test set: Average loss: 0.4558, Accuracy: 8453/10000 (84.53%)\n",
            "\n",
            "EPOCH: 111\n"
          ]
        },
        {
          "output_type": "stream",
          "name": "stderr",
          "text": [
            "Loss=0.9869195222854614 Batch_id=390 Accuracy=79.80: 100%|██████████| 391/391 [00:17<00:00, 22.39it/s]"
          ]
        },
        {
          "output_type": "stream",
          "name": "stdout",
          "text": [
            "\n",
            " Average Training Loss=0.006671193194389343, Accuracy=79.8\n"
          ]
        },
        {
          "output_type": "stream",
          "name": "stderr",
          "text": [
            "\n"
          ]
        },
        {
          "output_type": "stream",
          "name": "stdout",
          "text": [
            "\n",
            "Test set: Average loss: 0.4572, Accuracy: 8458/10000 (84.58%)\n",
            "\n",
            "EPOCH: 112\n"
          ]
        },
        {
          "output_type": "stream",
          "name": "stderr",
          "text": [
            "Loss=0.8682301044464111 Batch_id=390 Accuracy=79.79: 100%|██████████| 391/391 [00:17<00:00, 22.89it/s]"
          ]
        },
        {
          "output_type": "stream",
          "name": "stdout",
          "text": [
            "\n",
            " Average Training Loss=0.006667329860925674, Accuracy=79.794\n"
          ]
        },
        {
          "output_type": "stream",
          "name": "stderr",
          "text": [
            "\n"
          ]
        },
        {
          "output_type": "stream",
          "name": "stdout",
          "text": [
            "\n",
            "Test set: Average loss: 0.4559, Accuracy: 8462/10000 (84.62%)\n",
            "\n",
            "EPOCH: 113\n"
          ]
        },
        {
          "output_type": "stream",
          "name": "stderr",
          "text": [
            "Loss=0.9267656803131104 Batch_id=390 Accuracy=79.35: 100%|██████████| 391/391 [00:17<00:00, 22.95it/s]"
          ]
        },
        {
          "output_type": "stream",
          "name": "stdout",
          "text": [
            "\n",
            " Average Training Loss=0.006696149671077728, Accuracy=79.346\n"
          ]
        },
        {
          "output_type": "stream",
          "name": "stderr",
          "text": [
            "\n"
          ]
        },
        {
          "output_type": "stream",
          "name": "stdout",
          "text": [
            "\n",
            "Test set: Average loss: 0.4581, Accuracy: 8453/10000 (84.53%)\n",
            "\n",
            "EPOCH: 114\n"
          ]
        },
        {
          "output_type": "stream",
          "name": "stderr",
          "text": [
            "Loss=0.8301843404769897 Batch_id=390 Accuracy=79.79: 100%|██████████| 391/391 [00:16<00:00, 23.20it/s]"
          ]
        },
        {
          "output_type": "stream",
          "name": "stdout",
          "text": [
            "\n",
            " Average Training Loss=0.006661613872051239, Accuracy=79.792\n"
          ]
        },
        {
          "output_type": "stream",
          "name": "stderr",
          "text": [
            "\n"
          ]
        },
        {
          "output_type": "stream",
          "name": "stdout",
          "text": [
            "\n",
            "Test set: Average loss: 0.4543, Accuracy: 8459/10000 (84.59%)\n",
            "\n",
            "EPOCH: 115\n"
          ]
        },
        {
          "output_type": "stream",
          "name": "stderr",
          "text": [
            "Loss=0.8785613179206848 Batch_id=390 Accuracy=79.71: 100%|██████████| 391/391 [00:17<00:00, 21.99it/s]"
          ]
        },
        {
          "output_type": "stream",
          "name": "stdout",
          "text": [
            "\n",
            " Average Training Loss=0.006662727403640747, Accuracy=79.71\n"
          ]
        },
        {
          "output_type": "stream",
          "name": "stderr",
          "text": [
            "\n"
          ]
        },
        {
          "output_type": "stream",
          "name": "stdout",
          "text": [
            "\n",
            "Test set: Average loss: 0.4554, Accuracy: 8449/10000 (84.49%)\n",
            "\n",
            "EPOCH: 116\n"
          ]
        },
        {
          "output_type": "stream",
          "name": "stderr",
          "text": [
            "Loss=0.9508669972419739 Batch_id=390 Accuracy=79.40: 100%|██████████| 391/391 [00:16<00:00, 23.26it/s]"
          ]
        },
        {
          "output_type": "stream",
          "name": "stdout",
          "text": [
            "\n",
            " Average Training Loss=0.006680404238700866, Accuracy=79.396\n"
          ]
        },
        {
          "output_type": "stream",
          "name": "stderr",
          "text": [
            "\n"
          ]
        },
        {
          "output_type": "stream",
          "name": "stdout",
          "text": [
            "\n",
            "Test set: Average loss: 0.4577, Accuracy: 8461/10000 (84.61%)\n",
            "\n",
            "EPOCH: 117\n"
          ]
        },
        {
          "output_type": "stream",
          "name": "stderr",
          "text": [
            "Loss=0.9247657656669617 Batch_id=390 Accuracy=79.75: 100%|██████████| 391/391 [00:16<00:00, 23.01it/s]"
          ]
        },
        {
          "output_type": "stream",
          "name": "stdout",
          "text": [
            "\n",
            " Average Training Loss=0.006654408445358276, Accuracy=79.748\n"
          ]
        },
        {
          "output_type": "stream",
          "name": "stderr",
          "text": [
            "\n"
          ]
        },
        {
          "output_type": "stream",
          "name": "stdout",
          "text": [
            "\n",
            "Test set: Average loss: 0.4554, Accuracy: 8459/10000 (84.59%)\n",
            "\n",
            "EPOCH: 118\n"
          ]
        },
        {
          "output_type": "stream",
          "name": "stderr",
          "text": [
            "Loss=0.9000234007835388 Batch_id=390 Accuracy=79.80: 100%|██████████| 391/391 [00:17<00:00, 22.84it/s]"
          ]
        },
        {
          "output_type": "stream",
          "name": "stdout",
          "text": [
            "\n",
            " Average Training Loss=0.006657904205322265, Accuracy=79.798\n"
          ]
        },
        {
          "output_type": "stream",
          "name": "stderr",
          "text": [
            "\n"
          ]
        },
        {
          "output_type": "stream",
          "name": "stdout",
          "text": [
            "\n",
            "Test set: Average loss: 0.4547, Accuracy: 8466/10000 (84.66%)\n",
            "\n",
            "EPOCH: 119\n"
          ]
        },
        {
          "output_type": "stream",
          "name": "stderr",
          "text": [
            "Loss=0.8699271082878113 Batch_id=390 Accuracy=79.97: 100%|██████████| 391/391 [00:17<00:00, 22.11it/s]"
          ]
        },
        {
          "output_type": "stream",
          "name": "stdout",
          "text": [
            "\n",
            " Average Training Loss=0.006620040290355682, Accuracy=79.972\n"
          ]
        },
        {
          "output_type": "stream",
          "name": "stderr",
          "text": [
            "\n"
          ]
        },
        {
          "output_type": "stream",
          "name": "stdout",
          "text": [
            "\n",
            "Test set: Average loss: 0.4554, Accuracy: 8461/10000 (84.61%)\n",
            "\n",
            "EPOCH: 120\n"
          ]
        },
        {
          "output_type": "stream",
          "name": "stderr",
          "text": [
            "Loss=0.8173099160194397 Batch_id=390 Accuracy=80.05: 100%|██████████| 391/391 [00:16<00:00, 23.21it/s]"
          ]
        },
        {
          "output_type": "stream",
          "name": "stdout",
          "text": [
            "\n",
            " Average Training Loss=0.0065983906614780425, Accuracy=80.048\n"
          ]
        },
        {
          "output_type": "stream",
          "name": "stderr",
          "text": [
            "\n"
          ]
        },
        {
          "output_type": "stream",
          "name": "stdout",
          "text": [
            "\n",
            "Test set: Average loss: 0.4546, Accuracy: 8457/10000 (84.57%)\n",
            "\n",
            "EPOCH: 121\n"
          ]
        },
        {
          "output_type": "stream",
          "name": "stderr",
          "text": [
            "Loss=0.8543792963027954 Batch_id=390 Accuracy=80.24: 100%|██████████| 391/391 [00:17<00:00, 22.32it/s]"
          ]
        },
        {
          "output_type": "stream",
          "name": "stdout",
          "text": [
            "\n",
            " Average Training Loss=0.006582415301799774, Accuracy=80.238\n"
          ]
        },
        {
          "output_type": "stream",
          "name": "stderr",
          "text": [
            "\n"
          ]
        },
        {
          "output_type": "stream",
          "name": "stdout",
          "text": [
            "\n",
            "Test set: Average loss: 0.4549, Accuracy: 8466/10000 (84.66%)\n",
            "\n",
            "EPOCH: 122\n"
          ]
        },
        {
          "output_type": "stream",
          "name": "stderr",
          "text": [
            "Loss=0.875284731388092 Batch_id=390 Accuracy=79.80: 100%|██████████| 391/391 [00:17<00:00, 22.73it/s]"
          ]
        },
        {
          "output_type": "stream",
          "name": "stdout",
          "text": [
            "\n",
            " Average Training Loss=0.0066152431619167324, Accuracy=79.798\n"
          ]
        },
        {
          "output_type": "stream",
          "name": "stderr",
          "text": [
            "\n"
          ]
        },
        {
          "output_type": "stream",
          "name": "stdout",
          "text": [
            "\n",
            "Test set: Average loss: 0.4533, Accuracy: 8462/10000 (84.62%)\n",
            "\n",
            "EPOCH: 123\n"
          ]
        },
        {
          "output_type": "stream",
          "name": "stderr",
          "text": [
            "Loss=0.9213173389434814 Batch_id=390 Accuracy=79.80: 100%|██████████| 391/391 [00:17<00:00, 21.95it/s]"
          ]
        },
        {
          "output_type": "stream",
          "name": "stdout",
          "text": [
            "\n",
            " Average Training Loss=0.006612856817245483, Accuracy=79.796\n"
          ]
        },
        {
          "output_type": "stream",
          "name": "stderr",
          "text": [
            "\n"
          ]
        },
        {
          "output_type": "stream",
          "name": "stdout",
          "text": [
            "\n",
            "Test set: Average loss: 0.4533, Accuracy: 8451/10000 (84.51%)\n",
            "\n",
            "EPOCH: 124\n"
          ]
        },
        {
          "output_type": "stream",
          "name": "stderr",
          "text": [
            "Loss=0.7749125361442566 Batch_id=390 Accuracy=79.77: 100%|██████████| 391/391 [00:16<00:00, 23.08it/s]"
          ]
        },
        {
          "output_type": "stream",
          "name": "stdout",
          "text": [
            "\n",
            " Average Training Loss=0.006632727378606797, Accuracy=79.766\n"
          ]
        },
        {
          "output_type": "stream",
          "name": "stderr",
          "text": [
            "\n"
          ]
        },
        {
          "output_type": "stream",
          "name": "stdout",
          "text": [
            "\n",
            "Test set: Average loss: 0.4549, Accuracy: 8451/10000 (84.51%)\n",
            "\n",
            "EPOCH: 125\n"
          ]
        },
        {
          "output_type": "stream",
          "name": "stderr",
          "text": [
            "Loss=0.6908010244369507 Batch_id=390 Accuracy=79.66: 100%|██████████| 391/391 [00:17<00:00, 22.85it/s]"
          ]
        },
        {
          "output_type": "stream",
          "name": "stdout",
          "text": [
            "\n",
            " Average Training Loss=0.006612223291397094, Accuracy=79.662\n"
          ]
        },
        {
          "output_type": "stream",
          "name": "stderr",
          "text": [
            "\n"
          ]
        },
        {
          "output_type": "stream",
          "name": "stdout",
          "text": [
            "\n",
            "Test set: Average loss: 0.4521, Accuracy: 8454/10000 (84.54%)\n",
            "\n",
            "EPOCH: 126\n"
          ]
        },
        {
          "output_type": "stream",
          "name": "stderr",
          "text": [
            "Loss=0.7816396951675415 Batch_id=390 Accuracy=80.06: 100%|██████████| 391/391 [00:17<00:00, 22.98it/s]"
          ]
        },
        {
          "output_type": "stream",
          "name": "stdout",
          "text": [
            "\n",
            " Average Training Loss=0.00657549821972847, Accuracy=80.06\n"
          ]
        },
        {
          "output_type": "stream",
          "name": "stderr",
          "text": [
            "\n"
          ]
        },
        {
          "output_type": "stream",
          "name": "stdout",
          "text": [
            "\n",
            "Test set: Average loss: 0.4544, Accuracy: 8446/10000 (84.46%)\n",
            "\n",
            "EPOCH: 127\n"
          ]
        },
        {
          "output_type": "stream",
          "name": "stderr",
          "text": [
            "Loss=0.7709624171257019 Batch_id=390 Accuracy=79.97: 100%|██████████| 391/391 [00:17<00:00, 22.26it/s]"
          ]
        },
        {
          "output_type": "stream",
          "name": "stdout",
          "text": [
            "\n",
            " Average Training Loss=0.006585663630962372, Accuracy=79.972\n"
          ]
        },
        {
          "output_type": "stream",
          "name": "stderr",
          "text": [
            "\n"
          ]
        },
        {
          "output_type": "stream",
          "name": "stdout",
          "text": [
            "\n",
            "Test set: Average loss: 0.4538, Accuracy: 8447/10000 (84.47%)\n",
            "\n",
            "EPOCH: 128\n"
          ]
        },
        {
          "output_type": "stream",
          "name": "stderr",
          "text": [
            "Loss=0.8955731987953186 Batch_id=390 Accuracy=79.81: 100%|██████████| 391/391 [00:17<00:00, 22.83it/s]"
          ]
        },
        {
          "output_type": "stream",
          "name": "stdout",
          "text": [
            "\n",
            " Average Training Loss=0.006618799567222595, Accuracy=79.814\n"
          ]
        },
        {
          "output_type": "stream",
          "name": "stderr",
          "text": [
            "\n"
          ]
        },
        {
          "output_type": "stream",
          "name": "stdout",
          "text": [
            "\n",
            "Test set: Average loss: 0.4575, Accuracy: 8454/10000 (84.54%)\n",
            "\n",
            "EPOCH: 129\n"
          ]
        },
        {
          "output_type": "stream",
          "name": "stderr",
          "text": [
            "Loss=0.8482013940811157 Batch_id=390 Accuracy=79.72: 100%|██████████| 391/391 [00:16<00:00, 23.11it/s]"
          ]
        },
        {
          "output_type": "stream",
          "name": "stdout",
          "text": [
            "\n",
            " Average Training Loss=0.006656560279130936, Accuracy=79.722\n"
          ]
        },
        {
          "output_type": "stream",
          "name": "stderr",
          "text": [
            "\n"
          ]
        },
        {
          "output_type": "stream",
          "name": "stdout",
          "text": [
            "\n",
            "Test set: Average loss: 0.4553, Accuracy: 8450/10000 (84.50%)\n",
            "\n",
            "EPOCH: 130\n"
          ]
        },
        {
          "output_type": "stream",
          "name": "stderr",
          "text": [
            "Loss=0.6879348158836365 Batch_id=390 Accuracy=80.00: 100%|██████████| 391/391 [00:16<00:00, 23.03it/s]"
          ]
        },
        {
          "output_type": "stream",
          "name": "stdout",
          "text": [
            "\n",
            " Average Training Loss=0.0066024033725261685, Accuracy=80.0\n"
          ]
        },
        {
          "output_type": "stream",
          "name": "stderr",
          "text": [
            "\n"
          ]
        },
        {
          "output_type": "stream",
          "name": "stdout",
          "text": [
            "\n",
            "Test set: Average loss: 0.4558, Accuracy: 8444/10000 (84.44%)\n",
            "\n",
            "EPOCH: 131\n"
          ]
        },
        {
          "output_type": "stream",
          "name": "stderr",
          "text": [
            "Loss=1.0155669450759888 Batch_id=390 Accuracy=79.87: 100%|██████████| 391/391 [00:17<00:00, 22.77it/s]"
          ]
        },
        {
          "output_type": "stream",
          "name": "stdout",
          "text": [
            "\n",
            " Average Training Loss=0.006595713541507721, Accuracy=79.868\n"
          ]
        },
        {
          "output_type": "stream",
          "name": "stderr",
          "text": [
            "\n"
          ]
        },
        {
          "output_type": "stream",
          "name": "stdout",
          "text": [
            "\n",
            "Test set: Average loss: 0.4560, Accuracy: 8454/10000 (84.54%)\n",
            "\n",
            "EPOCH: 132\n"
          ]
        },
        {
          "output_type": "stream",
          "name": "stderr",
          "text": [
            "Loss=0.8893162608146667 Batch_id=390 Accuracy=80.08: 100%|██████████| 391/391 [00:17<00:00, 22.43it/s]"
          ]
        },
        {
          "output_type": "stream",
          "name": "stdout",
          "text": [
            "\n",
            " Average Training Loss=0.006566831431388855, Accuracy=80.076\n"
          ]
        },
        {
          "output_type": "stream",
          "name": "stderr",
          "text": [
            "\n"
          ]
        },
        {
          "output_type": "stream",
          "name": "stdout",
          "text": [
            "\n",
            "Test set: Average loss: 0.4575, Accuracy: 8446/10000 (84.46%)\n",
            "\n",
            "EPOCH: 133\n"
          ]
        },
        {
          "output_type": "stream",
          "name": "stderr",
          "text": [
            "Loss=0.7668702006340027 Batch_id=390 Accuracy=79.86: 100%|██████████| 391/391 [00:17<00:00, 22.91it/s]"
          ]
        },
        {
          "output_type": "stream",
          "name": "stdout",
          "text": [
            "\n",
            " Average Training Loss=0.006587868250608444, Accuracy=79.856\n"
          ]
        },
        {
          "output_type": "stream",
          "name": "stderr",
          "text": [
            "\n"
          ]
        },
        {
          "output_type": "stream",
          "name": "stdout",
          "text": [
            "\n",
            "Test set: Average loss: 0.4592, Accuracy: 8447/10000 (84.47%)\n",
            "\n",
            "EPOCH: 134\n"
          ]
        },
        {
          "output_type": "stream",
          "name": "stderr",
          "text": [
            "Loss=1.0161261558532715 Batch_id=390 Accuracy=80.02: 100%|██████████| 391/391 [00:17<00:00, 22.86it/s]"
          ]
        },
        {
          "output_type": "stream",
          "name": "stdout",
          "text": [
            "\n",
            " Average Training Loss=0.00657577201962471, Accuracy=80.022\n"
          ]
        },
        {
          "output_type": "stream",
          "name": "stderr",
          "text": [
            "\n"
          ]
        },
        {
          "output_type": "stream",
          "name": "stdout",
          "text": [
            "\n",
            "Test set: Average loss: 0.4555, Accuracy: 8455/10000 (84.55%)\n",
            "\n",
            "EPOCH: 135\n"
          ]
        },
        {
          "output_type": "stream",
          "name": "stderr",
          "text": [
            "Loss=0.8115448951721191 Batch_id=390 Accuracy=79.72: 100%|██████████| 391/391 [00:18<00:00, 21.47it/s]"
          ]
        },
        {
          "output_type": "stream",
          "name": "stdout",
          "text": [
            "\n",
            " Average Training Loss=0.006647555645704269, Accuracy=79.716\n"
          ]
        },
        {
          "output_type": "stream",
          "name": "stderr",
          "text": [
            "\n"
          ]
        },
        {
          "output_type": "stream",
          "name": "stdout",
          "text": [
            "\n",
            "Test set: Average loss: 0.4538, Accuracy: 8443/10000 (84.43%)\n",
            "\n",
            "EPOCH: 136\n"
          ]
        },
        {
          "output_type": "stream",
          "name": "stderr",
          "text": [
            "Loss=0.8421292304992676 Batch_id=390 Accuracy=80.04: 100%|██████████| 391/391 [00:17<00:00, 22.44it/s]"
          ]
        },
        {
          "output_type": "stream",
          "name": "stdout",
          "text": [
            "\n",
            " Average Training Loss=0.006585015711784363, Accuracy=80.036\n"
          ]
        },
        {
          "output_type": "stream",
          "name": "stderr",
          "text": [
            "\n"
          ]
        },
        {
          "output_type": "stream",
          "name": "stdout",
          "text": [
            "\n",
            "Test set: Average loss: 0.4543, Accuracy: 8468/10000 (84.68%)\n",
            "\n",
            "EPOCH: 137\n"
          ]
        },
        {
          "output_type": "stream",
          "name": "stderr",
          "text": [
            "Loss=0.6821398735046387 Batch_id=390 Accuracy=79.91: 100%|██████████| 391/391 [00:16<00:00, 23.02it/s]"
          ]
        },
        {
          "output_type": "stream",
          "name": "stdout",
          "text": [
            "\n",
            " Average Training Loss=0.006581718049049378, Accuracy=79.914\n"
          ]
        },
        {
          "output_type": "stream",
          "name": "stderr",
          "text": [
            "\n"
          ]
        },
        {
          "output_type": "stream",
          "name": "stdout",
          "text": [
            "\n",
            "Test set: Average loss: 0.4525, Accuracy: 8438/10000 (84.38%)\n",
            "\n",
            "EPOCH: 138\n"
          ]
        },
        {
          "output_type": "stream",
          "name": "stderr",
          "text": [
            "Loss=0.8955740928649902 Batch_id=390 Accuracy=79.72: 100%|██████████| 391/391 [00:17<00:00, 22.81it/s]"
          ]
        },
        {
          "output_type": "stream",
          "name": "stdout",
          "text": [
            "\n",
            " Average Training Loss=0.0066409352684021, Accuracy=79.724\n"
          ]
        },
        {
          "output_type": "stream",
          "name": "stderr",
          "text": [
            "\n"
          ]
        },
        {
          "output_type": "stream",
          "name": "stdout",
          "text": [
            "\n",
            "Test set: Average loss: 0.4548, Accuracy: 8452/10000 (84.52%)\n",
            "\n",
            "EPOCH: 139\n"
          ]
        },
        {
          "output_type": "stream",
          "name": "stderr",
          "text": [
            "Loss=0.9649298191070557 Batch_id=390 Accuracy=79.87: 100%|██████████| 391/391 [00:16<00:00, 23.17it/s]"
          ]
        },
        {
          "output_type": "stream",
          "name": "stdout",
          "text": [
            "\n",
            " Average Training Loss=0.006614202250242234, Accuracy=79.874\n"
          ]
        },
        {
          "output_type": "stream",
          "name": "stderr",
          "text": [
            "\n"
          ]
        },
        {
          "output_type": "stream",
          "name": "stdout",
          "text": [
            "\n",
            "Test set: Average loss: 0.4546, Accuracy: 8452/10000 (84.52%)\n",
            "\n",
            "EPOCH: 140\n"
          ]
        },
        {
          "output_type": "stream",
          "name": "stderr",
          "text": [
            "Loss=0.7449501752853394 Batch_id=390 Accuracy=79.98: 100%|██████████| 391/391 [00:17<00:00, 22.08it/s]"
          ]
        },
        {
          "output_type": "stream",
          "name": "stdout",
          "text": [
            "\n",
            " Average Training Loss=0.006598632906675339, Accuracy=79.98\n"
          ]
        },
        {
          "output_type": "stream",
          "name": "stderr",
          "text": [
            "\n"
          ]
        },
        {
          "output_type": "stream",
          "name": "stdout",
          "text": [
            "\n",
            "Test set: Average loss: 0.4548, Accuracy: 8457/10000 (84.57%)\n",
            "\n",
            "EPOCH: 141\n"
          ]
        },
        {
          "output_type": "stream",
          "name": "stderr",
          "text": [
            "Loss=0.7636693716049194 Batch_id=390 Accuracy=79.50: 100%|██████████| 391/391 [00:17<00:00, 22.85it/s]"
          ]
        },
        {
          "output_type": "stream",
          "name": "stdout",
          "text": [
            "\n",
            " Average Training Loss=0.006668638941049576, Accuracy=79.496\n"
          ]
        },
        {
          "output_type": "stream",
          "name": "stderr",
          "text": [
            "\n"
          ]
        },
        {
          "output_type": "stream",
          "name": "stdout",
          "text": [
            "\n",
            "Test set: Average loss: 0.4539, Accuracy: 8449/10000 (84.49%)\n",
            "\n",
            "EPOCH: 142\n"
          ]
        },
        {
          "output_type": "stream",
          "name": "stderr",
          "text": [
            "Loss=0.8936982750892639 Batch_id=390 Accuracy=79.51: 100%|██████████| 391/391 [00:16<00:00, 23.06it/s]"
          ]
        },
        {
          "output_type": "stream",
          "name": "stdout",
          "text": [
            "\n",
            " Average Training Loss=0.00667205052614212, Accuracy=79.506\n"
          ]
        },
        {
          "output_type": "stream",
          "name": "stderr",
          "text": [
            "\n"
          ]
        },
        {
          "output_type": "stream",
          "name": "stdout",
          "text": [
            "\n",
            "Test set: Average loss: 0.4537, Accuracy: 8453/10000 (84.53%)\n",
            "\n",
            "EPOCH: 143\n"
          ]
        },
        {
          "output_type": "stream",
          "name": "stderr",
          "text": [
            "Loss=0.7277592420578003 Batch_id=390 Accuracy=80.02: 100%|██████████| 391/391 [00:17<00:00, 22.71it/s]"
          ]
        },
        {
          "output_type": "stream",
          "name": "stdout",
          "text": [
            "\n",
            " Average Training Loss=0.006603424482345581, Accuracy=80.024\n"
          ]
        },
        {
          "output_type": "stream",
          "name": "stderr",
          "text": [
            "\n"
          ]
        },
        {
          "output_type": "stream",
          "name": "stdout",
          "text": [
            "\n",
            "Test set: Average loss: 0.4542, Accuracy: 8456/10000 (84.56%)\n",
            "\n",
            "EPOCH: 144\n"
          ]
        },
        {
          "output_type": "stream",
          "name": "stderr",
          "text": [
            "Loss=0.8243842720985413 Batch_id=390 Accuracy=80.12: 100%|██████████| 391/391 [00:17<00:00, 21.93it/s]"
          ]
        },
        {
          "output_type": "stream",
          "name": "stdout",
          "text": [
            "\n",
            " Average Training Loss=0.006619043834209442, Accuracy=80.12\n"
          ]
        },
        {
          "output_type": "stream",
          "name": "stderr",
          "text": [
            "\n"
          ]
        },
        {
          "output_type": "stream",
          "name": "stdout",
          "text": [
            "\n",
            "Test set: Average loss: 0.4575, Accuracy: 8453/10000 (84.53%)\n",
            "\n",
            "EPOCH: 145\n"
          ]
        },
        {
          "output_type": "stream",
          "name": "stderr",
          "text": [
            "Loss=0.8364471197128296 Batch_id=390 Accuracy=79.83: 100%|██████████| 391/391 [00:17<00:00, 22.75it/s]"
          ]
        },
        {
          "output_type": "stream",
          "name": "stdout",
          "text": [
            "\n",
            " Average Training Loss=0.0066177528870105745, Accuracy=79.832\n"
          ]
        },
        {
          "output_type": "stream",
          "name": "stderr",
          "text": [
            "\n"
          ]
        },
        {
          "output_type": "stream",
          "name": "stdout",
          "text": [
            "\n",
            "Test set: Average loss: 0.4560, Accuracy: 8457/10000 (84.57%)\n",
            "\n",
            "EPOCH: 146\n"
          ]
        },
        {
          "output_type": "stream",
          "name": "stderr",
          "text": [
            "Loss=0.7498358488082886 Batch_id=390 Accuracy=79.87: 100%|██████████| 391/391 [00:17<00:00, 22.77it/s]"
          ]
        },
        {
          "output_type": "stream",
          "name": "stdout",
          "text": [
            "\n",
            " Average Training Loss=0.0065775862002372745, Accuracy=79.87\n"
          ]
        },
        {
          "output_type": "stream",
          "name": "stderr",
          "text": [
            "\n"
          ]
        },
        {
          "output_type": "stream",
          "name": "stdout",
          "text": [
            "\n",
            "Test set: Average loss: 0.4551, Accuracy: 8454/10000 (84.54%)\n",
            "\n",
            "EPOCH: 147\n"
          ]
        },
        {
          "output_type": "stream",
          "name": "stderr",
          "text": [
            "Loss=0.9399895071983337 Batch_id=390 Accuracy=79.80: 100%|██████████| 391/391 [00:17<00:00, 22.54it/s]"
          ]
        },
        {
          "output_type": "stream",
          "name": "stdout",
          "text": [
            "\n",
            " Average Training Loss=0.006616527943611145, Accuracy=79.798\n"
          ]
        },
        {
          "output_type": "stream",
          "name": "stderr",
          "text": [
            "\n"
          ]
        },
        {
          "output_type": "stream",
          "name": "stdout",
          "text": [
            "\n",
            "Test set: Average loss: 0.4541, Accuracy: 8454/10000 (84.54%)\n",
            "\n",
            "EPOCH: 148\n"
          ]
        },
        {
          "output_type": "stream",
          "name": "stderr",
          "text": [
            "Loss=0.9063436388969421 Batch_id=390 Accuracy=80.06: 100%|██████████| 391/391 [00:18<00:00, 20.61it/s]"
          ]
        },
        {
          "output_type": "stream",
          "name": "stdout",
          "text": [
            "\n",
            " Average Training Loss=0.006598944592475891, Accuracy=80.06\n"
          ]
        },
        {
          "output_type": "stream",
          "name": "stderr",
          "text": [
            "\n"
          ]
        },
        {
          "output_type": "stream",
          "name": "stdout",
          "text": [
            "\n",
            "Test set: Average loss: 0.4533, Accuracy: 8461/10000 (84.61%)\n",
            "\n",
            "EPOCH: 149\n"
          ]
        },
        {
          "output_type": "stream",
          "name": "stderr",
          "text": [
            "Loss=0.8851445913314819 Batch_id=390 Accuracy=79.73: 100%|██████████| 391/391 [00:17<00:00, 22.65it/s]\n"
          ]
        },
        {
          "output_type": "stream",
          "name": "stdout",
          "text": [
            "\n",
            " Average Training Loss=0.006611489796638489, Accuracy=79.726\n",
            "\n",
            "Test set: Average loss: 0.4546, Accuracy: 8441/10000 (84.41%)\n",
            "\n",
            "EPOCH: 150\n"
          ]
        },
        {
          "output_type": "stream",
          "name": "stderr",
          "text": [
            "Loss=0.7826922535896301 Batch_id=390 Accuracy=79.85: 100%|██████████| 391/391 [00:17<00:00, 22.97it/s]"
          ]
        },
        {
          "output_type": "stream",
          "name": "stdout",
          "text": [
            "\n",
            " Average Training Loss=0.006614314134120941, Accuracy=79.852\n"
          ]
        },
        {
          "output_type": "stream",
          "name": "stderr",
          "text": [
            "\n"
          ]
        },
        {
          "output_type": "stream",
          "name": "stdout",
          "text": [
            "\n",
            "Test set: Average loss: 0.4532, Accuracy: 8451/10000 (84.51%)\n",
            "\n",
            "EPOCH: 151\n"
          ]
        },
        {
          "output_type": "stream",
          "name": "stderr",
          "text": [
            "Loss=0.7269401550292969 Batch_id=390 Accuracy=79.54: 100%|██████████| 391/391 [00:17<00:00, 22.62it/s]"
          ]
        },
        {
          "output_type": "stream",
          "name": "stdout",
          "text": [
            "\n",
            " Average Training Loss=0.006667221839427948, Accuracy=79.538\n"
          ]
        },
        {
          "output_type": "stream",
          "name": "stderr",
          "text": [
            "\n"
          ]
        },
        {
          "output_type": "stream",
          "name": "stdout",
          "text": [
            "\n",
            "Test set: Average loss: 0.4541, Accuracy: 8454/10000 (84.54%)\n",
            "\n",
            "EPOCH: 152\n"
          ]
        },
        {
          "output_type": "stream",
          "name": "stderr",
          "text": [
            "Loss=0.9102960824966431 Batch_id=390 Accuracy=79.84: 100%|██████████| 391/391 [00:17<00:00, 22.30it/s]"
          ]
        },
        {
          "output_type": "stream",
          "name": "stdout",
          "text": [
            "\n",
            " Average Training Loss=0.006615484082698822, Accuracy=79.836\n"
          ]
        },
        {
          "output_type": "stream",
          "name": "stderr",
          "text": [
            "\n"
          ]
        },
        {
          "output_type": "stream",
          "name": "stdout",
          "text": [
            "\n",
            "Test set: Average loss: 0.4539, Accuracy: 8460/10000 (84.60%)\n",
            "\n",
            "EPOCH: 153\n"
          ]
        },
        {
          "output_type": "stream",
          "name": "stderr",
          "text": [
            "Loss=0.9138213396072388 Batch_id=390 Accuracy=79.83: 100%|██████████| 391/391 [00:17<00:00, 22.36it/s]"
          ]
        },
        {
          "output_type": "stream",
          "name": "stdout",
          "text": [
            "\n",
            " Average Training Loss=0.00662477631688118, Accuracy=79.834\n"
          ]
        },
        {
          "output_type": "stream",
          "name": "stderr",
          "text": [
            "\n"
          ]
        },
        {
          "output_type": "stream",
          "name": "stdout",
          "text": [
            "\n",
            "Test set: Average loss: 0.4534, Accuracy: 8457/10000 (84.57%)\n",
            "\n",
            "EPOCH: 154\n"
          ]
        },
        {
          "output_type": "stream",
          "name": "stderr",
          "text": [
            "Loss=1.0361990928649902 Batch_id=390 Accuracy=79.82: 100%|██████████| 391/391 [00:17<00:00, 22.61it/s]"
          ]
        },
        {
          "output_type": "stream",
          "name": "stdout",
          "text": [
            "\n",
            " Average Training Loss=0.006603411252498627, Accuracy=79.82\n"
          ]
        },
        {
          "output_type": "stream",
          "name": "stderr",
          "text": [
            "\n"
          ]
        },
        {
          "output_type": "stream",
          "name": "stdout",
          "text": [
            "\n",
            "Test set: Average loss: 0.4527, Accuracy: 8460/10000 (84.60%)\n",
            "\n",
            "EPOCH: 155\n"
          ]
        },
        {
          "output_type": "stream",
          "name": "stderr",
          "text": [
            "Loss=1.020570158958435 Batch_id=390 Accuracy=79.69: 100%|██████████| 391/391 [00:17<00:00, 22.96it/s]"
          ]
        },
        {
          "output_type": "stream",
          "name": "stdout",
          "text": [
            "\n",
            " Average Training Loss=0.0066163800501823425, Accuracy=79.69\n"
          ]
        },
        {
          "output_type": "stream",
          "name": "stderr",
          "text": [
            "\n"
          ]
        },
        {
          "output_type": "stream",
          "name": "stdout",
          "text": [
            "\n",
            "Test set: Average loss: 0.4550, Accuracy: 8467/10000 (84.67%)\n",
            "\n",
            "EPOCH: 156\n"
          ]
        },
        {
          "output_type": "stream",
          "name": "stderr",
          "text": [
            "Loss=1.000739336013794 Batch_id=390 Accuracy=80.10: 100%|██████████| 391/391 [00:17<00:00, 21.96it/s]"
          ]
        },
        {
          "output_type": "stream",
          "name": "stdout",
          "text": [
            "\n",
            " Average Training Loss=0.006577758997678757, Accuracy=80.1\n"
          ]
        },
        {
          "output_type": "stream",
          "name": "stderr",
          "text": [
            "\n"
          ]
        },
        {
          "output_type": "stream",
          "name": "stdout",
          "text": [
            "\n",
            "Test set: Average loss: 0.4543, Accuracy: 8458/10000 (84.58%)\n",
            "\n",
            "EPOCH: 157\n"
          ]
        },
        {
          "output_type": "stream",
          "name": "stderr",
          "text": [
            "Loss=0.9435248374938965 Batch_id=390 Accuracy=79.90: 100%|██████████| 391/391 [00:17<00:00, 22.46it/s]"
          ]
        },
        {
          "output_type": "stream",
          "name": "stdout",
          "text": [
            "\n",
            " Average Training Loss=0.006595581376552582, Accuracy=79.904\n"
          ]
        },
        {
          "output_type": "stream",
          "name": "stderr",
          "text": [
            "\n"
          ]
        },
        {
          "output_type": "stream",
          "name": "stdout",
          "text": [
            "\n",
            "Test set: Average loss: 0.4541, Accuracy: 8452/10000 (84.52%)\n",
            "\n",
            "EPOCH: 158\n"
          ]
        },
        {
          "output_type": "stream",
          "name": "stderr",
          "text": [
            "Loss=0.861587643623352 Batch_id=390 Accuracy=79.86: 100%|██████████| 391/391 [00:17<00:00, 22.82it/s]"
          ]
        },
        {
          "output_type": "stream",
          "name": "stdout",
          "text": [
            "\n",
            " Average Training Loss=0.006599264476299286, Accuracy=79.862\n"
          ]
        },
        {
          "output_type": "stream",
          "name": "stderr",
          "text": [
            "\n"
          ]
        },
        {
          "output_type": "stream",
          "name": "stdout",
          "text": [
            "\n",
            "Test set: Average loss: 0.4544, Accuracy: 8458/10000 (84.58%)\n",
            "\n",
            "EPOCH: 159\n"
          ]
        },
        {
          "output_type": "stream",
          "name": "stderr",
          "text": [
            "Loss=0.7776178121566772 Batch_id=390 Accuracy=79.79: 100%|██████████| 391/391 [00:17<00:00, 22.52it/s]"
          ]
        },
        {
          "output_type": "stream",
          "name": "stdout",
          "text": [
            "\n",
            " Average Training Loss=0.006599922508001328, Accuracy=79.794\n"
          ]
        },
        {
          "output_type": "stream",
          "name": "stderr",
          "text": [
            "\n"
          ]
        },
        {
          "output_type": "stream",
          "name": "stdout",
          "text": [
            "\n",
            "Test set: Average loss: 0.4539, Accuracy: 8459/10000 (84.59%)\n",
            "\n",
            "EPOCH: 160\n"
          ]
        },
        {
          "output_type": "stream",
          "name": "stderr",
          "text": [
            "Loss=0.8735511302947998 Batch_id=390 Accuracy=79.84: 100%|██████████| 391/391 [00:19<00:00, 20.44it/s]"
          ]
        },
        {
          "output_type": "stream",
          "name": "stdout",
          "text": [
            "\n",
            " Average Training Loss=0.006617823115587234, Accuracy=79.842\n"
          ]
        },
        {
          "output_type": "stream",
          "name": "stderr",
          "text": [
            "\n"
          ]
        },
        {
          "output_type": "stream",
          "name": "stdout",
          "text": [
            "\n",
            "Test set: Average loss: 0.4552, Accuracy: 8462/10000 (84.62%)\n",
            "\n",
            "EPOCH: 161\n"
          ]
        },
        {
          "output_type": "stream",
          "name": "stderr",
          "text": [
            "Loss=0.6662931442260742 Batch_id=390 Accuracy=79.94: 100%|██████████| 391/391 [00:17<00:00, 22.35it/s]"
          ]
        },
        {
          "output_type": "stream",
          "name": "stdout",
          "text": [
            "\n",
            " Average Training Loss=0.006566249486207962, Accuracy=79.936\n"
          ]
        },
        {
          "output_type": "stream",
          "name": "stderr",
          "text": [
            "\n"
          ]
        },
        {
          "output_type": "stream",
          "name": "stdout",
          "text": [
            "\n",
            "Test set: Average loss: 0.4547, Accuracy: 8452/10000 (84.52%)\n",
            "\n",
            "EPOCH: 162\n"
          ]
        },
        {
          "output_type": "stream",
          "name": "stderr",
          "text": [
            "Loss=0.970947265625 Batch_id=390 Accuracy=79.83: 100%|██████████| 391/391 [00:17<00:00, 22.80it/s]"
          ]
        },
        {
          "output_type": "stream",
          "name": "stdout",
          "text": [
            "\n",
            " Average Training Loss=0.006593384051322937, Accuracy=79.83\n"
          ]
        },
        {
          "output_type": "stream",
          "name": "stderr",
          "text": [
            "\n"
          ]
        },
        {
          "output_type": "stream",
          "name": "stdout",
          "text": [
            "\n",
            "Test set: Average loss: 0.4564, Accuracy: 8459/10000 (84.59%)\n",
            "\n",
            "EPOCH: 163\n"
          ]
        },
        {
          "output_type": "stream",
          "name": "stderr",
          "text": [
            "Loss=0.7738783359527588 Batch_id=390 Accuracy=79.95: 100%|██████████| 391/391 [00:17<00:00, 22.78it/s]"
          ]
        },
        {
          "output_type": "stream",
          "name": "stdout",
          "text": [
            "\n",
            " Average Training Loss=0.006576442179679871, Accuracy=79.948\n"
          ]
        },
        {
          "output_type": "stream",
          "name": "stderr",
          "text": [
            "\n"
          ]
        },
        {
          "output_type": "stream",
          "name": "stdout",
          "text": [
            "\n",
            "Test set: Average loss: 0.4518, Accuracy: 8463/10000 (84.63%)\n",
            "\n",
            "EPOCH: 164\n"
          ]
        },
        {
          "output_type": "stream",
          "name": "stderr",
          "text": [
            "Loss=0.8808521032333374 Batch_id=390 Accuracy=80.14: 100%|██████████| 391/391 [00:17<00:00, 22.05it/s]"
          ]
        },
        {
          "output_type": "stream",
          "name": "stdout",
          "text": [
            "\n",
            " Average Training Loss=0.0065783938932418825, Accuracy=80.136\n"
          ]
        },
        {
          "output_type": "stream",
          "name": "stderr",
          "text": [
            "\n"
          ]
        },
        {
          "output_type": "stream",
          "name": "stdout",
          "text": [
            "\n",
            "Test set: Average loss: 0.4550, Accuracy: 8441/10000 (84.41%)\n",
            "\n",
            "EPOCH: 165\n"
          ]
        },
        {
          "output_type": "stream",
          "name": "stderr",
          "text": [
            "Loss=0.7864776849746704 Batch_id=390 Accuracy=80.14: 100%|██████████| 391/391 [00:17<00:00, 22.59it/s]"
          ]
        },
        {
          "output_type": "stream",
          "name": "stdout",
          "text": [
            "\n",
            " Average Training Loss=0.006570273650884628, Accuracy=80.138\n"
          ]
        },
        {
          "output_type": "stream",
          "name": "stderr",
          "text": [
            "\n"
          ]
        },
        {
          "output_type": "stream",
          "name": "stdout",
          "text": [
            "\n",
            "Test set: Average loss: 0.4562, Accuracy: 8457/10000 (84.57%)\n",
            "\n",
            "EPOCH: 166\n"
          ]
        },
        {
          "output_type": "stream",
          "name": "stderr",
          "text": [
            "Loss=0.8408402800559998 Batch_id=390 Accuracy=79.85: 100%|██████████| 391/391 [00:17<00:00, 22.74it/s]"
          ]
        },
        {
          "output_type": "stream",
          "name": "stdout",
          "text": [
            "\n",
            " Average Training Loss=0.006598501944541931, Accuracy=79.848\n"
          ]
        },
        {
          "output_type": "stream",
          "name": "stderr",
          "text": [
            "\n"
          ]
        },
        {
          "output_type": "stream",
          "name": "stdout",
          "text": [
            "\n",
            "Test set: Average loss: 0.4559, Accuracy: 8456/10000 (84.56%)\n",
            "\n",
            "EPOCH: 167\n"
          ]
        },
        {
          "output_type": "stream",
          "name": "stderr",
          "text": [
            "Loss=0.8164224624633789 Batch_id=390 Accuracy=79.63: 100%|██████████| 391/391 [00:17<00:00, 22.67it/s]"
          ]
        },
        {
          "output_type": "stream",
          "name": "stdout",
          "text": [
            "\n",
            " Average Training Loss=0.006618232469558716, Accuracy=79.63\n"
          ]
        },
        {
          "output_type": "stream",
          "name": "stderr",
          "text": [
            "\n"
          ]
        },
        {
          "output_type": "stream",
          "name": "stdout",
          "text": [
            "\n",
            "Test set: Average loss: 0.4534, Accuracy: 8452/10000 (84.52%)\n",
            "\n",
            "EPOCH: 168\n"
          ]
        },
        {
          "output_type": "stream",
          "name": "stderr",
          "text": [
            "Loss=0.9189145565032959 Batch_id=390 Accuracy=80.07: 100%|██████████| 391/391 [00:17<00:00, 22.54it/s]"
          ]
        },
        {
          "output_type": "stream",
          "name": "stdout",
          "text": [
            "\n",
            " Average Training Loss=0.006597277433872223, Accuracy=80.072\n"
          ]
        },
        {
          "output_type": "stream",
          "name": "stderr",
          "text": [
            "\n"
          ]
        },
        {
          "output_type": "stream",
          "name": "stdout",
          "text": [
            "\n",
            "Test set: Average loss: 0.4557, Accuracy: 8452/10000 (84.52%)\n",
            "\n",
            "EPOCH: 169\n"
          ]
        },
        {
          "output_type": "stream",
          "name": "stderr",
          "text": [
            "Loss=0.7806304097175598 Batch_id=390 Accuracy=79.86: 100%|██████████| 391/391 [00:17<00:00, 22.05it/s]"
          ]
        },
        {
          "output_type": "stream",
          "name": "stdout",
          "text": [
            "\n",
            " Average Training Loss=0.006585902165174485, Accuracy=79.86\n"
          ]
        },
        {
          "output_type": "stream",
          "name": "stderr",
          "text": [
            "\n"
          ]
        },
        {
          "output_type": "stream",
          "name": "stdout",
          "text": [
            "\n",
            "Test set: Average loss: 0.4525, Accuracy: 8455/10000 (84.55%)\n",
            "\n",
            "EPOCH: 170\n"
          ]
        },
        {
          "output_type": "stream",
          "name": "stderr",
          "text": [
            "Loss=0.7844630479812622 Batch_id=390 Accuracy=79.89: 100%|██████████| 391/391 [00:17<00:00, 22.32it/s]"
          ]
        },
        {
          "output_type": "stream",
          "name": "stdout",
          "text": [
            "\n",
            " Average Training Loss=0.006605938062667847, Accuracy=79.892\n"
          ]
        },
        {
          "output_type": "stream",
          "name": "stderr",
          "text": [
            "\n"
          ]
        },
        {
          "output_type": "stream",
          "name": "stdout",
          "text": [
            "\n",
            "Test set: Average loss: 0.4547, Accuracy: 8449/10000 (84.49%)\n",
            "\n",
            "EPOCH: 171\n"
          ]
        },
        {
          "output_type": "stream",
          "name": "stderr",
          "text": [
            "Loss=0.88832688331604 Batch_id=390 Accuracy=79.93: 100%|██████████| 391/391 [00:17<00:00, 22.43it/s]"
          ]
        },
        {
          "output_type": "stream",
          "name": "stdout",
          "text": [
            "\n",
            " Average Training Loss=0.006574953840970993, Accuracy=79.93\n"
          ]
        },
        {
          "output_type": "stream",
          "name": "stderr",
          "text": [
            "\n"
          ]
        },
        {
          "output_type": "stream",
          "name": "stdout",
          "text": [
            "\n",
            "Test set: Average loss: 0.4553, Accuracy: 8463/10000 (84.63%)\n",
            "\n",
            "EPOCH: 172\n"
          ]
        },
        {
          "output_type": "stream",
          "name": "stderr",
          "text": [
            "Loss=0.9251648187637329 Batch_id=390 Accuracy=79.79: 100%|██████████| 391/391 [00:17<00:00, 22.33it/s]"
          ]
        },
        {
          "output_type": "stream",
          "name": "stdout",
          "text": [
            "\n",
            " Average Training Loss=0.006619830800294876, Accuracy=79.788\n"
          ]
        },
        {
          "output_type": "stream",
          "name": "stderr",
          "text": [
            "\n"
          ]
        },
        {
          "output_type": "stream",
          "name": "stdout",
          "text": [
            "\n",
            "Test set: Average loss: 0.4555, Accuracy: 8460/10000 (84.60%)\n",
            "\n",
            "EPOCH: 173\n"
          ]
        },
        {
          "output_type": "stream",
          "name": "stderr",
          "text": [
            "Loss=0.7840496301651001 Batch_id=390 Accuracy=80.13: 100%|██████████| 391/391 [00:19<00:00, 20.02it/s]"
          ]
        },
        {
          "output_type": "stream",
          "name": "stdout",
          "text": [
            "\n",
            " Average Training Loss=0.006541335673332214, Accuracy=80.13\n"
          ]
        },
        {
          "output_type": "stream",
          "name": "stderr",
          "text": [
            "\n"
          ]
        },
        {
          "output_type": "stream",
          "name": "stdout",
          "text": [
            "\n",
            "Test set: Average loss: 0.4535, Accuracy: 8451/10000 (84.51%)\n",
            "\n",
            "EPOCH: 174\n"
          ]
        },
        {
          "output_type": "stream",
          "name": "stderr",
          "text": [
            "Loss=0.842926025390625 Batch_id=390 Accuracy=79.60: 100%|██████████| 391/391 [00:17<00:00, 22.55it/s]"
          ]
        },
        {
          "output_type": "stream",
          "name": "stdout",
          "text": [
            "\n",
            " Average Training Loss=0.006637060525417328, Accuracy=79.602\n"
          ]
        },
        {
          "output_type": "stream",
          "name": "stderr",
          "text": [
            "\n"
          ]
        },
        {
          "output_type": "stream",
          "name": "stdout",
          "text": [
            "\n",
            "Test set: Average loss: 0.4548, Accuracy: 8453/10000 (84.53%)\n",
            "\n",
            "EPOCH: 175\n"
          ]
        },
        {
          "output_type": "stream",
          "name": "stderr",
          "text": [
            "Loss=0.9005335569381714 Batch_id=390 Accuracy=79.74: 100%|██████████| 391/391 [00:17<00:00, 22.34it/s]\n"
          ]
        },
        {
          "output_type": "stream",
          "name": "stdout",
          "text": [
            "\n",
            " Average Training Loss=0.006606146742105484, Accuracy=79.742\n",
            "\n",
            "Test set: Average loss: 0.4537, Accuracy: 8456/10000 (84.56%)\n",
            "\n",
            "EPOCH: 176\n"
          ]
        },
        {
          "output_type": "stream",
          "name": "stderr",
          "text": [
            "Loss=0.7939257621765137 Batch_id=390 Accuracy=80.03: 100%|██████████| 391/391 [00:18<00:00, 21.65it/s]"
          ]
        },
        {
          "output_type": "stream",
          "name": "stdout",
          "text": [
            "\n",
            " Average Training Loss=0.006560333894491195, Accuracy=80.026\n"
          ]
        },
        {
          "output_type": "stream",
          "name": "stderr",
          "text": [
            "\n"
          ]
        },
        {
          "output_type": "stream",
          "name": "stdout",
          "text": [
            "\n",
            "Test set: Average loss: 0.4522, Accuracy: 8445/10000 (84.45%)\n",
            "\n",
            "EPOCH: 177\n"
          ]
        },
        {
          "output_type": "stream",
          "name": "stderr",
          "text": [
            "Loss=0.9306212067604065 Batch_id=390 Accuracy=80.04: 100%|██████████| 391/391 [00:17<00:00, 22.76it/s]"
          ]
        },
        {
          "output_type": "stream",
          "name": "stdout",
          "text": [
            "\n",
            " Average Training Loss=0.006576395016908646, Accuracy=80.036\n"
          ]
        },
        {
          "output_type": "stream",
          "name": "stderr",
          "text": [
            "\n"
          ]
        },
        {
          "output_type": "stream",
          "name": "stdout",
          "text": [
            "\n",
            "Test set: Average loss: 0.4530, Accuracy: 8458/10000 (84.58%)\n",
            "\n",
            "EPOCH: 178\n"
          ]
        },
        {
          "output_type": "stream",
          "name": "stderr",
          "text": [
            "Loss=0.7930035591125488 Batch_id=390 Accuracy=79.71: 100%|██████████| 391/391 [00:17<00:00, 22.43it/s]"
          ]
        },
        {
          "output_type": "stream",
          "name": "stdout",
          "text": [
            "\n",
            " Average Training Loss=0.006603272533416748, Accuracy=79.712\n"
          ]
        },
        {
          "output_type": "stream",
          "name": "stderr",
          "text": [
            "\n"
          ]
        },
        {
          "output_type": "stream",
          "name": "stdout",
          "text": [
            "\n",
            "Test set: Average loss: 0.4550, Accuracy: 8466/10000 (84.66%)\n",
            "\n",
            "EPOCH: 179\n"
          ]
        },
        {
          "output_type": "stream",
          "name": "stderr",
          "text": [
            "Loss=1.0288158655166626 Batch_id=390 Accuracy=80.02: 100%|██████████| 391/391 [00:17<00:00, 22.64it/s]"
          ]
        },
        {
          "output_type": "stream",
          "name": "stdout",
          "text": [
            "\n",
            " Average Training Loss=0.006608883231878281, Accuracy=80.02\n"
          ]
        },
        {
          "output_type": "stream",
          "name": "stderr",
          "text": [
            "\n"
          ]
        },
        {
          "output_type": "stream",
          "name": "stdout",
          "text": [
            "\n",
            "Test set: Average loss: 0.4551, Accuracy: 8463/10000 (84.63%)\n",
            "\n",
            "EPOCH: 180\n"
          ]
        },
        {
          "output_type": "stream",
          "name": "stderr",
          "text": [
            "Loss=0.939805269241333 Batch_id=390 Accuracy=79.93: 100%|██████████| 391/391 [00:18<00:00, 21.70it/s]"
          ]
        },
        {
          "output_type": "stream",
          "name": "stdout",
          "text": [
            "\n",
            " Average Training Loss=0.006583288416862488, Accuracy=79.932\n"
          ]
        },
        {
          "output_type": "stream",
          "name": "stderr",
          "text": [
            "\n"
          ]
        },
        {
          "output_type": "stream",
          "name": "stdout",
          "text": [
            "\n",
            "Test set: Average loss: 0.4564, Accuracy: 8444/10000 (84.44%)\n",
            "\n",
            "EPOCH: 181\n"
          ]
        },
        {
          "output_type": "stream",
          "name": "stderr",
          "text": [
            "Loss=0.7822792530059814 Batch_id=390 Accuracy=79.91: 100%|██████████| 391/391 [00:17<00:00, 22.69it/s]"
          ]
        },
        {
          "output_type": "stream",
          "name": "stdout",
          "text": [
            "\n",
            " Average Training Loss=0.006592179801464081, Accuracy=79.908\n"
          ]
        },
        {
          "output_type": "stream",
          "name": "stderr",
          "text": [
            "\n"
          ]
        },
        {
          "output_type": "stream",
          "name": "stdout",
          "text": [
            "\n",
            "Test set: Average loss: 0.4532, Accuracy: 8470/10000 (84.70%)\n",
            "\n",
            "EPOCH: 182\n"
          ]
        },
        {
          "output_type": "stream",
          "name": "stderr",
          "text": [
            "Loss=0.8004782199859619 Batch_id=390 Accuracy=79.92: 100%|██████████| 391/391 [00:17<00:00, 22.37it/s]"
          ]
        },
        {
          "output_type": "stream",
          "name": "stdout",
          "text": [
            "\n",
            " Average Training Loss=0.006556265882253647, Accuracy=79.918\n"
          ]
        },
        {
          "output_type": "stream",
          "name": "stderr",
          "text": [
            "\n"
          ]
        },
        {
          "output_type": "stream",
          "name": "stdout",
          "text": [
            "\n",
            "Test set: Average loss: 0.4561, Accuracy: 8455/10000 (84.55%)\n",
            "\n",
            "EPOCH: 183\n"
          ]
        },
        {
          "output_type": "stream",
          "name": "stderr",
          "text": [
            "Loss=0.8121778964996338 Batch_id=390 Accuracy=79.91: 100%|██████████| 391/391 [00:17<00:00, 22.55it/s]"
          ]
        },
        {
          "output_type": "stream",
          "name": "stdout",
          "text": [
            "\n",
            " Average Training Loss=0.006593397493362426, Accuracy=79.912\n"
          ]
        },
        {
          "output_type": "stream",
          "name": "stderr",
          "text": [
            "\n"
          ]
        },
        {
          "output_type": "stream",
          "name": "stdout",
          "text": [
            "\n",
            "Test set: Average loss: 0.4552, Accuracy: 8464/10000 (84.64%)\n",
            "\n",
            "EPOCH: 184\n"
          ]
        },
        {
          "output_type": "stream",
          "name": "stderr",
          "text": [
            "Loss=0.9332171678543091 Batch_id=390 Accuracy=80.05: 100%|██████████| 391/391 [00:17<00:00, 21.98it/s]"
          ]
        },
        {
          "output_type": "stream",
          "name": "stdout",
          "text": [
            "\n",
            " Average Training Loss=0.006585856477022171, Accuracy=80.05\n"
          ]
        },
        {
          "output_type": "stream",
          "name": "stderr",
          "text": [
            "\n"
          ]
        },
        {
          "output_type": "stream",
          "name": "stdout",
          "text": [
            "\n",
            "Test set: Average loss: 0.4571, Accuracy: 8456/10000 (84.56%)\n",
            "\n",
            "EPOCH: 185\n"
          ]
        },
        {
          "output_type": "stream",
          "name": "stderr",
          "text": [
            "Loss=1.007601022720337 Batch_id=390 Accuracy=79.95: 100%|██████████| 391/391 [00:17<00:00, 22.53it/s]"
          ]
        },
        {
          "output_type": "stream",
          "name": "stdout",
          "text": [
            "\n",
            " Average Training Loss=0.006609790542125702, Accuracy=79.946\n"
          ]
        },
        {
          "output_type": "stream",
          "name": "stderr",
          "text": [
            "\n"
          ]
        },
        {
          "output_type": "stream",
          "name": "stdout",
          "text": [
            "\n",
            "Test set: Average loss: 0.4533, Accuracy: 8457/10000 (84.57%)\n",
            "\n",
            "EPOCH: 186\n"
          ]
        },
        {
          "output_type": "stream",
          "name": "stderr",
          "text": [
            "Loss=0.8820130825042725 Batch_id=390 Accuracy=79.84: 100%|██████████| 391/391 [00:18<00:00, 21.65it/s]"
          ]
        },
        {
          "output_type": "stream",
          "name": "stdout",
          "text": [
            "\n",
            " Average Training Loss=0.006580075416564942, Accuracy=79.844\n"
          ]
        },
        {
          "output_type": "stream",
          "name": "stderr",
          "text": [
            "\n"
          ]
        },
        {
          "output_type": "stream",
          "name": "stdout",
          "text": [
            "\n",
            "Test set: Average loss: 0.4557, Accuracy: 8455/10000 (84.55%)\n",
            "\n",
            "EPOCH: 187\n"
          ]
        },
        {
          "output_type": "stream",
          "name": "stderr",
          "text": [
            "Loss=0.7195507287979126 Batch_id=390 Accuracy=79.85: 100%|██████████| 391/391 [00:17<00:00, 22.11it/s]"
          ]
        },
        {
          "output_type": "stream",
          "name": "stdout",
          "text": [
            "\n",
            " Average Training Loss=0.006578385450839996, Accuracy=79.852\n"
          ]
        },
        {
          "output_type": "stream",
          "name": "stderr",
          "text": [
            "\n"
          ]
        },
        {
          "output_type": "stream",
          "name": "stdout",
          "text": [
            "\n",
            "Test set: Average loss: 0.4540, Accuracy: 8455/10000 (84.55%)\n",
            "\n",
            "EPOCH: 188\n"
          ]
        },
        {
          "output_type": "stream",
          "name": "stderr",
          "text": [
            "Loss=0.6714286804199219 Batch_id=390 Accuracy=80.13: 100%|██████████| 391/391 [00:18<00:00, 21.71it/s]"
          ]
        },
        {
          "output_type": "stream",
          "name": "stdout",
          "text": [
            "\n",
            " Average Training Loss=0.006547041136026383, Accuracy=80.13\n"
          ]
        },
        {
          "output_type": "stream",
          "name": "stderr",
          "text": [
            "\n"
          ]
        },
        {
          "output_type": "stream",
          "name": "stdout",
          "text": [
            "\n",
            "Test set: Average loss: 0.4537, Accuracy: 8453/10000 (84.53%)\n",
            "\n",
            "EPOCH: 189\n"
          ]
        },
        {
          "output_type": "stream",
          "name": "stderr",
          "text": [
            "Loss=0.7800072431564331 Batch_id=390 Accuracy=80.26: 100%|██████████| 391/391 [00:17<00:00, 22.60it/s]"
          ]
        },
        {
          "output_type": "stream",
          "name": "stdout",
          "text": [
            "\n",
            " Average Training Loss=0.006563224010467529, Accuracy=80.264\n"
          ]
        },
        {
          "output_type": "stream",
          "name": "stderr",
          "text": [
            "\n"
          ]
        },
        {
          "output_type": "stream",
          "name": "stdout",
          "text": [
            "\n",
            "Test set: Average loss: 0.4555, Accuracy: 8465/10000 (84.65%)\n",
            "\n",
            "EPOCH: 190\n"
          ]
        },
        {
          "output_type": "stream",
          "name": "stderr",
          "text": [
            "Loss=0.7903677821159363 Batch_id=390 Accuracy=79.91: 100%|██████████| 391/391 [00:17<00:00, 22.52it/s]"
          ]
        },
        {
          "output_type": "stream",
          "name": "stdout",
          "text": [
            "\n",
            " Average Training Loss=0.006588157232999802, Accuracy=79.912\n"
          ]
        },
        {
          "output_type": "stream",
          "name": "stderr",
          "text": [
            "\n"
          ]
        },
        {
          "output_type": "stream",
          "name": "stdout",
          "text": [
            "\n",
            "Test set: Average loss: 0.4531, Accuracy: 8465/10000 (84.65%)\n",
            "\n",
            "EPOCH: 191\n"
          ]
        },
        {
          "output_type": "stream",
          "name": "stderr",
          "text": [
            "Loss=0.9071797132492065 Batch_id=390 Accuracy=80.07: 100%|██████████| 391/391 [00:17<00:00, 21.84it/s]"
          ]
        },
        {
          "output_type": "stream",
          "name": "stdout",
          "text": [
            "\n",
            " Average Training Loss=0.006564309729337693, Accuracy=80.074\n"
          ]
        },
        {
          "output_type": "stream",
          "name": "stderr",
          "text": [
            "\n"
          ]
        },
        {
          "output_type": "stream",
          "name": "stdout",
          "text": [
            "\n",
            "Test set: Average loss: 0.4564, Accuracy: 8453/10000 (84.53%)\n",
            "\n",
            "EPOCH: 192\n"
          ]
        },
        {
          "output_type": "stream",
          "name": "stderr",
          "text": [
            "Loss=1.0352210998535156 Batch_id=390 Accuracy=79.83: 100%|██████████| 391/391 [00:17<00:00, 21.86it/s]\n"
          ]
        },
        {
          "output_type": "stream",
          "name": "stdout",
          "text": [
            "\n",
            " Average Training Loss=0.006616116199493408, Accuracy=79.834\n",
            "\n",
            "Test set: Average loss: 0.4551, Accuracy: 8441/10000 (84.41%)\n",
            "\n",
            "EPOCH: 193\n"
          ]
        },
        {
          "output_type": "stream",
          "name": "stderr",
          "text": [
            "Loss=0.7693213224411011 Batch_id=390 Accuracy=79.86: 100%|██████████| 391/391 [00:17<00:00, 22.72it/s]"
          ]
        },
        {
          "output_type": "stream",
          "name": "stdout",
          "text": [
            "\n",
            " Average Training Loss=0.006595038524866104, Accuracy=79.862\n"
          ]
        },
        {
          "output_type": "stream",
          "name": "stderr",
          "text": [
            "\n"
          ]
        },
        {
          "output_type": "stream",
          "name": "stdout",
          "text": [
            "\n",
            "Test set: Average loss: 0.4560, Accuracy: 8441/10000 (84.41%)\n",
            "\n",
            "EPOCH: 194\n"
          ]
        },
        {
          "output_type": "stream",
          "name": "stderr",
          "text": [
            "Loss=0.7456497550010681 Batch_id=390 Accuracy=79.94: 100%|██████████| 391/391 [00:17<00:00, 22.50it/s]"
          ]
        },
        {
          "output_type": "stream",
          "name": "stdout",
          "text": [
            "\n",
            " Average Training Loss=0.006573520458936691, Accuracy=79.94\n"
          ]
        },
        {
          "output_type": "stream",
          "name": "stderr",
          "text": [
            "\n"
          ]
        },
        {
          "output_type": "stream",
          "name": "stdout",
          "text": [
            "\n",
            "Test set: Average loss: 0.4546, Accuracy: 8457/10000 (84.57%)\n",
            "\n",
            "EPOCH: 195\n"
          ]
        },
        {
          "output_type": "stream",
          "name": "stderr",
          "text": [
            "Loss=0.8115904331207275 Batch_id=390 Accuracy=79.75: 100%|██████████| 391/391 [00:17<00:00, 22.21it/s]"
          ]
        },
        {
          "output_type": "stream",
          "name": "stdout",
          "text": [
            "\n",
            " Average Training Loss=0.006631649228334427, Accuracy=79.75\n"
          ]
        },
        {
          "output_type": "stream",
          "name": "stderr",
          "text": [
            "\n"
          ]
        },
        {
          "output_type": "stream",
          "name": "stdout",
          "text": [
            "\n",
            "Test set: Average loss: 0.4527, Accuracy: 8460/10000 (84.60%)\n",
            "\n",
            "EPOCH: 196\n"
          ]
        },
        {
          "output_type": "stream",
          "name": "stderr",
          "text": [
            "Loss=0.7880194187164307 Batch_id=390 Accuracy=79.96: 100%|██████████| 391/391 [00:17<00:00, 21.73it/s]"
          ]
        },
        {
          "output_type": "stream",
          "name": "stdout",
          "text": [
            "\n",
            " Average Training Loss=0.006574212167263031, Accuracy=79.964\n"
          ]
        },
        {
          "output_type": "stream",
          "name": "stderr",
          "text": [
            "\n"
          ]
        },
        {
          "output_type": "stream",
          "name": "stdout",
          "text": [
            "\n",
            "Test set: Average loss: 0.4565, Accuracy: 8442/10000 (84.42%)\n",
            "\n",
            "EPOCH: 197\n"
          ]
        },
        {
          "output_type": "stream",
          "name": "stderr",
          "text": [
            "Loss=0.6617103815078735 Batch_id=390 Accuracy=79.95: 100%|██████████| 391/391 [00:17<00:00, 22.46it/s]"
          ]
        },
        {
          "output_type": "stream",
          "name": "stdout",
          "text": [
            "\n",
            " Average Training Loss=0.006591491751670837, Accuracy=79.954\n"
          ]
        },
        {
          "output_type": "stream",
          "name": "stderr",
          "text": [
            "\n"
          ]
        },
        {
          "output_type": "stream",
          "name": "stdout",
          "text": [
            "\n",
            "Test set: Average loss: 0.4544, Accuracy: 8445/10000 (84.45%)\n",
            "\n",
            "EPOCH: 198\n"
          ]
        },
        {
          "output_type": "stream",
          "name": "stderr",
          "text": [
            "Loss=0.8353649377822876 Batch_id=390 Accuracy=79.80: 100%|██████████| 391/391 [00:19<00:00, 20.31it/s]"
          ]
        },
        {
          "output_type": "stream",
          "name": "stdout",
          "text": [
            "\n",
            " Average Training Loss=0.006634996507167816, Accuracy=79.796\n"
          ]
        },
        {
          "output_type": "stream",
          "name": "stderr",
          "text": [
            "\n"
          ]
        },
        {
          "output_type": "stream",
          "name": "stdout",
          "text": [
            "\n",
            "Test set: Average loss: 0.4552, Accuracy: 8457/10000 (84.57%)\n",
            "\n",
            "EPOCH: 199\n"
          ]
        },
        {
          "output_type": "stream",
          "name": "stderr",
          "text": [
            "Loss=0.8100250959396362 Batch_id=390 Accuracy=79.83: 100%|██████████| 391/391 [00:17<00:00, 22.26it/s]"
          ]
        },
        {
          "output_type": "stream",
          "name": "stdout",
          "text": [
            "\n",
            " Average Training Loss=0.006632002103328705, Accuracy=79.832\n"
          ]
        },
        {
          "output_type": "stream",
          "name": "stderr",
          "text": [
            "\n"
          ]
        },
        {
          "output_type": "stream",
          "name": "stdout",
          "text": [
            "\n",
            "Test set: Average loss: 0.4549, Accuracy: 8460/10000 (84.60%)\n",
            "\n",
            "Total Number of incorrectly predicted images by model type BN is 1540\n"
          ]
        }
      ]
    },
    {
      "cell_type": "code",
      "source": [
        "fig, axs = plt.subplots(1,2,figsize=(15,5))\n",
        "\n",
        "axs[0].plot(train_losses, label='Training Losses')\n",
        "axs[0].plot(test_losses, label='Test Losses')\n",
        "axs[0].legend(loc='upper right')\n",
        "axs[0].set_xlabel('Epochs')\n",
        "axs[0].set_ylabel('Loss')\n",
        "axs[0].set_title(\"Loss\")\n",
        "\n",
        "axs[1].plot(train_acc, label='Training Accuracy')\n",
        "axs[1].plot(test_acc, label='Test Accuracy')\n",
        "axs[1].legend(loc='lower right')\n",
        "axs[1].set_xlabel('Epochs')\n",
        "axs[1].set_ylabel('Accuracy')\n",
        "axs[1].set_title(\"Accuracy\")\n",
        "\n",
        "plt.show()"
      ],
      "metadata": {
        "colab": {
          "base_uri": "https://localhost:8080/",
          "height": 350
        },
        "id": "fktrB0ueVRGo",
        "outputId": "e0f9479b-d7b1-4484-e3da-8a98f7239455"
      },
      "execution_count": 29,
      "outputs": [
        {
          "output_type": "display_data",
          "data": {
            "text/plain": [
              "<Figure size 1080x360 with 2 Axes>"
            ],
            "image/png": "[encoded data removed]"
          },
          "metadata": {
            "needs_background": "light"
          }
        }
      ]
    },
    {
      "cell_type": "code",
      "metadata": {
        "id": "mTipy9gOfUVI",
        "colab": {
          "base_uri": "https://localhost:8080/"
        },
        "outputId": "9e299e29-9368-42a1-c4c3-1988b235775f"
      },
      "source": [
        "class_correct = list(0. for i in range(10))\n",
        "class_total = list(0. for i in range(10))\n",
        "net.eval()\n",
        "with torch.no_grad():\n",
        "    for data in test_loader:\n",
        "        images, labels = data\n",
        "        images, labels = images.to(device), labels.to(device)\n",
        "        outputs = net(images)\n",
        "        _, predicted = torch.max(outputs, 1)\n",
        "        c = (predicted == labels).squeeze()\n",
        "        for i in range(4):\n",
        "            label = labels[i]\n",
        "            class_correct[label] += c[i].item()\n",
        "            class_total[label] += 1\n",
        "\n",
        "\n",
        "for i in range(10):\n",
        "    print('Accuracy of %5s : %2d %%' % (\n",
        "        classes[i], 100 * class_correct[i] / class_total[i]))"
      ],
      "execution_count": 30,
      "outputs": [
        {
          "output_type": "stream",
          "name": "stdout",
          "text": [
            "Accuracy of plane : 89 %\n",
            "Accuracy of   car : 100 %\n",
            "Accuracy of  bird : 75 %\n",
            "Accuracy of   cat : 67 %\n",
            "Accuracy of  deer : 85 %\n",
            "Accuracy of   dog : 75 %\n",
            "Accuracy of  frog : 94 %\n",
            "Accuracy of horse : 92 %\n",
            "Accuracy of  ship : 90 %\n",
            "Accuracy of truck : 84 %\n"
          ]
        }
      ]
    },
    {
      "cell_type": "code",
      "source": [
        "def display_incorrect_pred1(mismatch, n=10 ):\n",
        "    classes = ['plane', 'car', 'bird', 'cat', 'deer', 'dog', 'frog', 'horse', 'ship', 'truck']\n",
        "    display_images = mismatch[:n]\n",
        "    index = 0\n",
        "    fig = plt.figure(figsize=(6, 14))\n",
        "    for img in display_images:\n",
        "        image = img[0].squeeze().to('cpu').numpy()\n",
        "        pred = classes[img[1]]\n",
        "        actual = classes[img[2]]\n",
        "        ax = fig.add_subplot(5, 2, index+1)\n",
        "        ax.axis('off')\n",
        "        ax.set_title(f'\\n Predicted Label : {pred} \\n Actual Label : {actual}',fontsize=10) \n",
        "        #npimg = image.numpy()\n",
        "        ax.imshow(np.transpose(image, (1, 2, 0)))        \n",
        "        #ax.imshow(image)\n",
        "        index = index + 1\n",
        "    plt.show()\n",
        "\n",
        "display_incorrect_pred1(wrong_predictions)"
      ],
      "metadata": {
        "colab": {
          "base_uri": "https://localhost:8080/",
          "height": 1000
        },
        "id": "mVZRb59ZWXfH",
        "outputId": "b5258576-0979-4140-973f-9c228073f8a4"
      },
      "execution_count": 38,
      "outputs": [
        {
          "output_type": "stream",
          "name": "stderr",
          "text": [
            "WARNING:matplotlib.image:Clipping input data to the valid range for imshow with RGB data ([0..1] for floats or [0..255] for integers).\n",
            "WARNING:matplotlib.image:Clipping input data to the valid range for imshow with RGB data ([0..1] for floats or [0..255] for integers).\n",
            "WARNING:matplotlib.image:Clipping input data to the valid range for imshow with RGB data ([0..1] for floats or [0..255] for integers).\n",
            "WARNING:matplotlib.image:Clipping input data to the valid range for imshow with RGB data ([0..1] for floats or [0..255] for integers).\n",
            "WARNING:matplotlib.image:Clipping input data to the valid range for imshow with RGB data ([0..1] for floats or [0..255] for integers).\n",
            "WARNING:matplotlib.image:Clipping input data to the valid range for imshow with RGB data ([0..1] for floats or [0..255] for integers).\n",
            "WARNING:matplotlib.image:Clipping input data to the valid range for imshow with RGB data ([0..1] for floats or [0..255] for integers).\n",
            "WARNING:matplotlib.image:Clipping input data to the valid range for imshow with RGB data ([0..1] for floats or [0..255] for integers).\n",
            "WARNING:matplotlib.image:Clipping input data to the valid range for imshow with RGB data ([0..1] for floats or [0..255] for integers).\n",
            "WARNING:matplotlib.image:Clipping input data to the valid range for imshow with RGB data ([0..1] for floats or [0..255] for integers).\n"
          ]
        },
        {
          "output_type": "display_data",
          "data": {
            "text/plain": [
              "<Figure size 432x1008 with 10 Axes>"
            ],
            "image/png": "[encoded data removed]"
          },
          "metadata": {
            "needs_background": "light"
          }
        }
      ]
    }
  ]
}